{
 "cells": [
  {
   "cell_type": "markdown",
   "metadata": {},
   "source": [
    "# JSON examples and exercise\n",
    "****\n",
    "+ get familiar with packages for dealing with JSON\n",
    "+ study examples with JSON strings and files \n",
    "+ work on exercise to be completed and submitted \n",
    "****\n",
    "+ reference: http://pandas.pydata.org/pandas-docs/stable/io.html#io-json-reader\n",
    "+ data source: http://jsonstudio.com/resources/\n",
    "****"
   ]
  },
  {
   "cell_type": "code",
   "execution_count": 1,
   "metadata": {},
   "outputs": [],
   "source": [
    "import pandas as pd"
   ]
  },
  {
   "cell_type": "markdown",
   "metadata": {},
   "source": [
    "## imports for Python, Pandas"
   ]
  },
  {
   "cell_type": "code",
   "execution_count": 588,
   "metadata": {},
   "outputs": [],
   "source": [
    "import json\n",
    "from pandas.io.json import json_normalize\n",
    "from collections import OrderedDict\n",
    "from IPython.display import display"
   ]
  },
  {
   "cell_type": "markdown",
   "metadata": {},
   "source": [
    "## JSON example, with string\n",
    "\n",
    "+ demonstrates creation of normalized dataframes (tables) from nested json string\n",
    "+ source: http://pandas.pydata.org/pandas-docs/stable/io.html#normalization"
   ]
  },
  {
   "cell_type": "code",
   "execution_count": 3,
   "metadata": {},
   "outputs": [],
   "source": [
    "# define json string\n",
    "data = [{'state': 'Florida', \n",
    "         'shortname': 'FL',\n",
    "         'info': {'governor': 'Rick Scott'},\n",
    "         'counties': [{'name': 'Dade', 'population': 12345},\n",
    "                      {'name': 'Broward', 'population': 40000},\n",
    "                      {'name': 'Palm Beach', 'population': 60000}]},\n",
    "        {'state': 'Ohio',\n",
    "         'shortname': 'OH',\n",
    "         'info': {'governor': 'John Kasich'},\n",
    "         'counties': [{'name': 'Summit', 'population': 1234},\n",
    "                      {'name': 'Cuyahoga', 'population': 1337}]}]"
   ]
  },
  {
   "cell_type": "code",
   "execution_count": 4,
   "metadata": {},
   "outputs": [
    {
     "data": {
      "text/html": [
       "<div>\n",
       "<style scoped>\n",
       "    .dataframe tbody tr th:only-of-type {\n",
       "        vertical-align: middle;\n",
       "    }\n",
       "\n",
       "    .dataframe tbody tr th {\n",
       "        vertical-align: top;\n",
       "    }\n",
       "\n",
       "    .dataframe thead th {\n",
       "        text-align: right;\n",
       "    }\n",
       "</style>\n",
       "<table border=\"1\" class=\"dataframe\">\n",
       "  <thead>\n",
       "    <tr style=\"text-align: right;\">\n",
       "      <th></th>\n",
       "      <th>name</th>\n",
       "      <th>population</th>\n",
       "    </tr>\n",
       "  </thead>\n",
       "  <tbody>\n",
       "    <tr>\n",
       "      <th>0</th>\n",
       "      <td>Dade</td>\n",
       "      <td>12345</td>\n",
       "    </tr>\n",
       "    <tr>\n",
       "      <th>1</th>\n",
       "      <td>Broward</td>\n",
       "      <td>40000</td>\n",
       "    </tr>\n",
       "    <tr>\n",
       "      <th>2</th>\n",
       "      <td>Palm Beach</td>\n",
       "      <td>60000</td>\n",
       "    </tr>\n",
       "    <tr>\n",
       "      <th>3</th>\n",
       "      <td>Summit</td>\n",
       "      <td>1234</td>\n",
       "    </tr>\n",
       "    <tr>\n",
       "      <th>4</th>\n",
       "      <td>Cuyahoga</td>\n",
       "      <td>1337</td>\n",
       "    </tr>\n",
       "  </tbody>\n",
       "</table>\n",
       "</div>"
      ],
      "text/plain": [
       "         name  population\n",
       "0        Dade       12345\n",
       "1     Broward       40000\n",
       "2  Palm Beach       60000\n",
       "3      Summit        1234\n",
       "4    Cuyahoga        1337"
      ]
     },
     "execution_count": 4,
     "metadata": {},
     "output_type": "execute_result"
    }
   ],
   "source": [
    "# use normalization to create tables from nested element\n",
    "json_normalize(data, 'counties')"
   ]
  },
  {
   "cell_type": "code",
   "execution_count": 5,
   "metadata": {},
   "outputs": [
    {
     "data": {
      "text/html": [
       "<div>\n",
       "<style scoped>\n",
       "    .dataframe tbody tr th:only-of-type {\n",
       "        vertical-align: middle;\n",
       "    }\n",
       "\n",
       "    .dataframe tbody tr th {\n",
       "        vertical-align: top;\n",
       "    }\n",
       "\n",
       "    .dataframe thead th {\n",
       "        text-align: right;\n",
       "    }\n",
       "</style>\n",
       "<table border=\"1\" class=\"dataframe\">\n",
       "  <thead>\n",
       "    <tr style=\"text-align: right;\">\n",
       "      <th></th>\n",
       "      <th>name</th>\n",
       "      <th>population</th>\n",
       "      <th>state</th>\n",
       "      <th>shortname</th>\n",
       "      <th>info.governor</th>\n",
       "    </tr>\n",
       "  </thead>\n",
       "  <tbody>\n",
       "    <tr>\n",
       "      <th>0</th>\n",
       "      <td>Dade</td>\n",
       "      <td>12345</td>\n",
       "      <td>Florida</td>\n",
       "      <td>FL</td>\n",
       "      <td>Rick Scott</td>\n",
       "    </tr>\n",
       "    <tr>\n",
       "      <th>1</th>\n",
       "      <td>Broward</td>\n",
       "      <td>40000</td>\n",
       "      <td>Florida</td>\n",
       "      <td>FL</td>\n",
       "      <td>Rick Scott</td>\n",
       "    </tr>\n",
       "    <tr>\n",
       "      <th>2</th>\n",
       "      <td>Palm Beach</td>\n",
       "      <td>60000</td>\n",
       "      <td>Florida</td>\n",
       "      <td>FL</td>\n",
       "      <td>Rick Scott</td>\n",
       "    </tr>\n",
       "    <tr>\n",
       "      <th>3</th>\n",
       "      <td>Summit</td>\n",
       "      <td>1234</td>\n",
       "      <td>Ohio</td>\n",
       "      <td>OH</td>\n",
       "      <td>John Kasich</td>\n",
       "    </tr>\n",
       "    <tr>\n",
       "      <th>4</th>\n",
       "      <td>Cuyahoga</td>\n",
       "      <td>1337</td>\n",
       "      <td>Ohio</td>\n",
       "      <td>OH</td>\n",
       "      <td>John Kasich</td>\n",
       "    </tr>\n",
       "  </tbody>\n",
       "</table>\n",
       "</div>"
      ],
      "text/plain": [
       "         name  population    state shortname info.governor\n",
       "0        Dade       12345  Florida        FL    Rick Scott\n",
       "1     Broward       40000  Florida        FL    Rick Scott\n",
       "2  Palm Beach       60000  Florida        FL    Rick Scott\n",
       "3      Summit        1234     Ohio        OH   John Kasich\n",
       "4    Cuyahoga        1337     Ohio        OH   John Kasich"
      ]
     },
     "execution_count": 5,
     "metadata": {},
     "output_type": "execute_result"
    }
   ],
   "source": [
    "# further populate tables created from nested element\n",
    "json_normalize(data, 'counties', ['state', 'shortname', ['info', 'governor']])"
   ]
  },
  {
   "cell_type": "markdown",
   "metadata": {},
   "source": [
    "****\n",
    "## JSON example, with file\n",
    "\n",
    "+ demonstrates reading in a json file as a string and as a table\n",
    "+ uses small sample file containing data about projects funded by the World Bank \n",
    "+ data source: http://jsonstudio.com/resources/"
   ]
  },
  {
   "cell_type": "code",
   "execution_count": 6,
   "metadata": {
    "scrolled": false
   },
   "outputs": [
    {
     "data": {
      "text/plain": [
       "[{'_id': {'$oid': '52b213b38594d8a2be17c780'},\n",
       "  'approvalfy': 1999,\n",
       "  'board_approval_month': 'November',\n",
       "  'boardapprovaldate': '2013-11-12T00:00:00Z',\n",
       "  'borrower': 'FEDERAL DEMOCRATIC REPUBLIC OF ETHIOPIA',\n",
       "  'closingdate': '2018-07-07T00:00:00Z',\n",
       "  'country_namecode': 'Federal Democratic Republic of Ethiopia!$!ET',\n",
       "  'countrycode': 'ET',\n",
       "  'countryname': 'Federal Democratic Republic of Ethiopia',\n",
       "  'countryshortname': 'Ethiopia',\n",
       "  'docty': 'Project Information Document,Indigenous Peoples Plan,Project Information Document',\n",
       "  'envassesmentcategorycode': 'C',\n",
       "  'grantamt': 0,\n",
       "  'ibrdcommamt': 0,\n",
       "  'id': 'P129828',\n",
       "  'idacommamt': 130000000,\n",
       "  'impagency': 'MINISTRY OF EDUCATION',\n",
       "  'lendinginstr': 'Investment Project Financing',\n",
       "  'lendinginstrtype': 'IN',\n",
       "  'lendprojectcost': 550000000,\n",
       "  'majorsector_percent': [{'Name': 'Education', 'Percent': 46},\n",
       "   {'Name': 'Education', 'Percent': 26},\n",
       "   {'Name': 'Public Administration, Law, and Justice', 'Percent': 16},\n",
       "   {'Name': 'Education', 'Percent': 12}],\n",
       "  'mjsector_namecode': [{'name': 'Education', 'code': 'EX'},\n",
       "   {'name': 'Education', 'code': 'EX'},\n",
       "   {'name': 'Public Administration, Law, and Justice', 'code': 'BX'},\n",
       "   {'name': 'Education', 'code': 'EX'}],\n",
       "  'mjtheme': ['Human development'],\n",
       "  'mjtheme_namecode': [{'name': 'Human development', 'code': '8'},\n",
       "   {'name': '', 'code': '11'}],\n",
       "  'mjthemecode': '8,11',\n",
       "  'prodline': 'PE',\n",
       "  'prodlinetext': 'IBRD/IDA',\n",
       "  'productlinetype': 'L',\n",
       "  'project_abstract': {'cdata': 'The development objective of the Second Phase of General Education Quality Improvement Project for Ethiopia is to improve learning conditions in primary and secondary schools and strengthen institutions at different levels of educational administration. The project has six components. The first component is curriculum, textbooks, assessment, examinations, and inspection. This component will support improvement of learning conditions in grades KG-12 by providing increased access to teaching and learning materials and through improvements to the curriculum by assessing the strengths and weaknesses of the current curriculum. This component has following four sub-components: (i) curriculum reform and implementation; (ii) teaching and learning materials; (iii) assessment and examinations; and (iv) inspection. The second component is teacher development program (TDP). This component will support improvements in learning conditions in both primary and secondary schools by advancing the quality of teaching in general education through: (a) enhancing the training of pre-service teachers in teacher education institutions; and (b) improving the quality of in-service teacher training. This component has following three sub-components: (i) pre-service teacher training; (ii) in-service teacher training; and (iii) licensing and relicensing of teachers and school leaders. The third component is school improvement plan. This component will support the strengthening of school planning in order to improve learning outcomes, and to partly fund the school improvement plans through school grants. It has following two sub-components: (i) school improvement plan; and (ii) school grants. The fourth component is management and capacity building, including education management information systems (EMIS). This component will support management and capacity building aspect of the project. This component has following three sub-components: (i) capacity building for education planning and management; (ii) capacity building for school planning and management; and (iii) EMIS. The fifth component is improving the quality of learning and teaching in secondary schools and universities through the use of information and communications technology (ICT). It has following five sub-components: (i) national policy and institution for ICT in general education; (ii) national ICT infrastructure improvement plan for general education; (iii) develop an integrated monitoring, evaluation, and learning system specifically for the ICT component; (iv) teacher professional development in the use of ICT; and (v) provision of limited number of e-Braille display readers with the possibility to scale up to all secondary education schools based on the successful implementation and usage of the readers. The sixth component is program coordination, monitoring and evaluation, and communication. It will support institutional strengthening by developing capacities in all aspects of program coordination, monitoring and evaluation; a new sub-component on communications will support information sharing for better management and accountability. It has following three sub-components: (i) program coordination; (ii) monitoring and evaluation (M and E); and (iii) communication.'},\n",
       "  'project_name': 'Ethiopia General Education Quality Improvement Project II',\n",
       "  'projectdocs': [{'DocTypeDesc': 'Project Information Document (PID),  Vol.',\n",
       "    'DocType': 'PID',\n",
       "    'EntityID': '090224b081e545fb_1_0',\n",
       "    'DocURL': 'http://www-wds.worldbank.org/servlet/WDSServlet?pcont=details&eid=090224b081e545fb_1_0',\n",
       "    'DocDate': '28-AUG-2013'},\n",
       "   {'DocTypeDesc': 'Indigenous Peoples Plan (IP),  Vol.1 of 1',\n",
       "    'DocType': 'IP',\n",
       "    'EntityID': '000442464_20130920111729',\n",
       "    'DocURL': 'http://www-wds.worldbank.org/servlet/WDSServlet?pcont=details&eid=000442464_20130920111729',\n",
       "    'DocDate': '01-JUL-2013'},\n",
       "   {'DocTypeDesc': 'Project Information Document (PID),  Vol.',\n",
       "    'DocType': 'PID',\n",
       "    'EntityID': '090224b0817b19e2_1_0',\n",
       "    'DocURL': 'http://www-wds.worldbank.org/servlet/WDSServlet?pcont=details&eid=090224b0817b19e2_1_0',\n",
       "    'DocDate': '22-NOV-2012'}],\n",
       "  'projectfinancialtype': 'IDA',\n",
       "  'projectstatusdisplay': 'Active',\n",
       "  'regionname': 'Africa',\n",
       "  'sector': [{'Name': 'Primary education'},\n",
       "   {'Name': 'Secondary education'},\n",
       "   {'Name': 'Public administration- Other social services'},\n",
       "   {'Name': 'Tertiary education'}],\n",
       "  'sector1': {'Name': 'Primary education', 'Percent': 46},\n",
       "  'sector2': {'Name': 'Secondary education', 'Percent': 26},\n",
       "  'sector3': {'Name': 'Public administration- Other social services',\n",
       "   'Percent': 16},\n",
       "  'sector4': {'Name': 'Tertiary education', 'Percent': 12},\n",
       "  'sector_namecode': [{'name': 'Primary education', 'code': 'EP'},\n",
       "   {'name': 'Secondary education', 'code': 'ES'},\n",
       "   {'name': 'Public administration- Other social services', 'code': 'BS'},\n",
       "   {'name': 'Tertiary education', 'code': 'ET'}],\n",
       "  'sectorcode': 'ET,BS,ES,EP',\n",
       "  'source': 'IBRD',\n",
       "  'status': 'Active',\n",
       "  'supplementprojectflg': 'N',\n",
       "  'theme1': {'Name': 'Education for all', 'Percent': 100},\n",
       "  'theme_namecode': [{'name': 'Education for all', 'code': '65'}],\n",
       "  'themecode': '65',\n",
       "  'totalamt': 130000000,\n",
       "  'totalcommamt': 130000000,\n",
       "  'url': 'http://www.worldbank.org/projects/P129828/ethiopia-general-education-quality-improvement-project-ii?lang=en'},\n",
       " {'_id': {'$oid': '52b213b38594d8a2be17c781'},\n",
       "  'approvalfy': 2015,\n",
       "  'board_approval_month': 'November',\n",
       "  'boardapprovaldate': '2013-11-04T00:00:00Z',\n",
       "  'borrower': 'GOVERNMENT OF TUNISIA',\n",
       "  'country_namecode': 'Republic of Tunisia!$!TN',\n",
       "  'countrycode': 'TN',\n",
       "  'countryname': 'Republic of Tunisia',\n",
       "  'countryshortname': 'Tunisia',\n",
       "  'docty': 'Project Information Document,Integrated Safeguards Data Sheet,Integrated Safeguards Data Sheet,Project Information Document,Integrated Safeguards Data Sheet,Project Information Document',\n",
       "  'envassesmentcategorycode': 'C',\n",
       "  'grantamt': 4700000,\n",
       "  'ibrdcommamt': 0,\n",
       "  'id': 'P144674',\n",
       "  'idacommamt': 0,\n",
       "  'impagency': 'MINISTRY OF FINANCE',\n",
       "  'lendinginstr': 'Specific Investment Loan',\n",
       "  'lendinginstrtype': 'IN',\n",
       "  'lendprojectcost': 5700000,\n",
       "  'majorsector_percent': [{'Name': 'Public Administration, Law, and Justice',\n",
       "    'Percent': 70},\n",
       "   {'Name': 'Public Administration, Law, and Justice', 'Percent': 30}],\n",
       "  'mjsector_namecode': [{'name': 'Public Administration, Law, and Justice',\n",
       "    'code': 'BX'},\n",
       "   {'name': 'Public Administration, Law, and Justice', 'code': 'BX'}],\n",
       "  'mjtheme': ['Economic management', 'Social protection and risk management'],\n",
       "  'mjtheme_namecode': [{'name': 'Economic management', 'code': '1'},\n",
       "   {'name': 'Social protection and risk management', 'code': '6'}],\n",
       "  'mjthemecode': '1,6',\n",
       "  'prodline': 'RE',\n",
       "  'prodlinetext': 'Recipient Executed Activities',\n",
       "  'productlinetype': 'L',\n",
       "  'project_name': 'TN: DTF Social Protection Reforms Support',\n",
       "  'projectdocs': [{'DocTypeDesc': 'Project Information Document (PID),  Vol.1 of 1',\n",
       "    'DocType': 'PID',\n",
       "    'EntityID': '000333037_20131024115616',\n",
       "    'DocURL': 'http://www-wds.worldbank.org/servlet/WDSServlet?pcont=details&eid=000333037_20131024115616',\n",
       "    'DocDate': '29-MAR-2013'},\n",
       "   {'DocTypeDesc': 'Integrated Safeguards Data Sheet (ISDS),  Vol.1 of 1',\n",
       "    'DocType': 'ISDS',\n",
       "    'EntityID': '000356161_20131024151611',\n",
       "    'DocURL': 'http://www-wds.worldbank.org/servlet/WDSServlet?pcont=details&eid=000356161_20131024151611',\n",
       "    'DocDate': '29-MAR-2013'},\n",
       "   {'DocTypeDesc': 'Integrated Safeguards Data Sheet (ISDS),  Vol.1 of 1',\n",
       "    'DocType': 'ISDS',\n",
       "    'EntityID': '000442464_20131031112136',\n",
       "    'DocURL': 'http://www-wds.worldbank.org/servlet/WDSServlet?pcont=details&eid=000442464_20131031112136',\n",
       "    'DocDate': '29-MAR-2013'},\n",
       "   {'DocTypeDesc': 'Project Information Document (PID),  Vol.1 of 1',\n",
       "    'DocType': 'PID',\n",
       "    'EntityID': '000333037_20131031105716',\n",
       "    'DocURL': 'http://www-wds.worldbank.org/servlet/WDSServlet?pcont=details&eid=000333037_20131031105716',\n",
       "    'DocDate': '29-MAR-2013'},\n",
       "   {'DocTypeDesc': 'Integrated Safeguards Data Sheet (ISDS),  Vol.1 of 1',\n",
       "    'DocType': 'ISDS',\n",
       "    'EntityID': '000356161_20130305113209',\n",
       "    'DocURL': 'http://www-wds.worldbank.org/servlet/WDSServlet?pcont=details&eid=000356161_20130305113209',\n",
       "    'DocDate': '16-JAN-2013'},\n",
       "   {'DocTypeDesc': 'Project Information Document (PID),  Vol.1 of 1',\n",
       "    'DocType': 'PID',\n",
       "    'EntityID': '000356161_20130305113716',\n",
       "    'DocURL': 'http://www-wds.worldbank.org/servlet/WDSServlet?pcont=details&eid=000356161_20130305113716',\n",
       "    'DocDate': '16-JAN-2013'}],\n",
       "  'projectfinancialtype': 'OTHER',\n",
       "  'projectstatusdisplay': 'Active',\n",
       "  'regionname': 'Middle East and North Africa',\n",
       "  'sector': [{'Name': 'Public administration- Other social services'},\n",
       "   {'Name': 'General public administration sector'}],\n",
       "  'sector1': {'Name': 'Public administration- Other social services',\n",
       "   'Percent': 70},\n",
       "  'sector2': {'Name': 'General public administration sector', 'Percent': 30},\n",
       "  'sector_namecode': [{'name': 'Public administration- Other social services',\n",
       "    'code': 'BS'},\n",
       "   {'name': 'General public administration sector', 'code': 'BZ'}],\n",
       "  'sectorcode': 'BZ,BS',\n",
       "  'source': 'IBRD',\n",
       "  'status': 'Active',\n",
       "  'supplementprojectflg': 'N',\n",
       "  'theme1': {'Name': 'Other economic management', 'Percent': 30},\n",
       "  'theme_namecode': [{'name': 'Other economic management', 'code': '24'},\n",
       "   {'name': 'Social safety nets', 'code': '54'}],\n",
       "  'themecode': '54,24',\n",
       "  'totalamt': 0,\n",
       "  'totalcommamt': 4700000,\n",
       "  'url': 'http://www.worldbank.org/projects/P144674?lang=en'}]"
      ]
     },
     "execution_count": 6,
     "metadata": {},
     "output_type": "execute_result"
    }
   ],
   "source": [
    "# load json as string\n",
    "json.load((open('data/world_bank_projects_less.json')))"
   ]
  },
  {
   "cell_type": "code",
   "execution_count": 14,
   "metadata": {
    "scrolled": true
   },
   "outputs": [
    {
     "data": {
      "text/html": [
       "<div>\n",
       "<style scoped>\n",
       "    .dataframe tbody tr th:only-of-type {\n",
       "        vertical-align: middle;\n",
       "    }\n",
       "\n",
       "    .dataframe tbody tr th {\n",
       "        vertical-align: top;\n",
       "    }\n",
       "\n",
       "    .dataframe thead th {\n",
       "        text-align: right;\n",
       "    }\n",
       "</style>\n",
       "<table border=\"1\" class=\"dataframe\">\n",
       "  <thead>\n",
       "    <tr style=\"text-align: right;\">\n",
       "      <th></th>\n",
       "      <th>_id</th>\n",
       "      <th>approvalfy</th>\n",
       "      <th>board_approval_month</th>\n",
       "      <th>boardapprovaldate</th>\n",
       "      <th>borrower</th>\n",
       "      <th>closingdate</th>\n",
       "      <th>country_namecode</th>\n",
       "      <th>countrycode</th>\n",
       "      <th>countryname</th>\n",
       "      <th>countryshortname</th>\n",
       "      <th>...</th>\n",
       "      <th>sectorcode</th>\n",
       "      <th>source</th>\n",
       "      <th>status</th>\n",
       "      <th>supplementprojectflg</th>\n",
       "      <th>theme1</th>\n",
       "      <th>theme_namecode</th>\n",
       "      <th>themecode</th>\n",
       "      <th>totalamt</th>\n",
       "      <th>totalcommamt</th>\n",
       "      <th>url</th>\n",
       "    </tr>\n",
       "  </thead>\n",
       "  <tbody>\n",
       "    <tr>\n",
       "      <th>0</th>\n",
       "      <td>{'$oid': '52b213b38594d8a2be17c780'}</td>\n",
       "      <td>1999</td>\n",
       "      <td>November</td>\n",
       "      <td>2013-11-12T00:00:00Z</td>\n",
       "      <td>FEDERAL DEMOCRATIC REPUBLIC OF ETHIOPIA</td>\n",
       "      <td>2018-07-07T00:00:00Z</td>\n",
       "      <td>Federal Democratic Republic of Ethiopia!$!ET</td>\n",
       "      <td>ET</td>\n",
       "      <td>Federal Democratic Republic of Ethiopia</td>\n",
       "      <td>Ethiopia</td>\n",
       "      <td>...</td>\n",
       "      <td>ET,BS,ES,EP</td>\n",
       "      <td>IBRD</td>\n",
       "      <td>Active</td>\n",
       "      <td>N</td>\n",
       "      <td>{'Name': 'Education for all', 'Percent': 100}</td>\n",
       "      <td>[{'name': 'Education for all', 'code': '65'}]</td>\n",
       "      <td>65</td>\n",
       "      <td>130000000</td>\n",
       "      <td>130000000</td>\n",
       "      <td>http://www.worldbank.org/projects/P129828/ethi...</td>\n",
       "    </tr>\n",
       "    <tr>\n",
       "      <th>1</th>\n",
       "      <td>{'$oid': '52b213b38594d8a2be17c781'}</td>\n",
       "      <td>2015</td>\n",
       "      <td>November</td>\n",
       "      <td>2013-11-04T00:00:00Z</td>\n",
       "      <td>GOVERNMENT OF TUNISIA</td>\n",
       "      <td>NaN</td>\n",
       "      <td>Republic of Tunisia!$!TN</td>\n",
       "      <td>TN</td>\n",
       "      <td>Republic of Tunisia</td>\n",
       "      <td>Tunisia</td>\n",
       "      <td>...</td>\n",
       "      <td>BZ,BS</td>\n",
       "      <td>IBRD</td>\n",
       "      <td>Active</td>\n",
       "      <td>N</td>\n",
       "      <td>{'Name': 'Other economic management', 'Percent...</td>\n",
       "      <td>[{'name': 'Other economic management', 'code':...</td>\n",
       "      <td>54,24</td>\n",
       "      <td>0</td>\n",
       "      <td>4700000</td>\n",
       "      <td>http://www.worldbank.org/projects/P144674?lang=en</td>\n",
       "    </tr>\n",
       "  </tbody>\n",
       "</table>\n",
       "<p>2 rows × 50 columns</p>\n",
       "</div>"
      ],
      "text/plain": [
       "                                    _id  approvalfy board_approval_month  \\\n",
       "0  {'$oid': '52b213b38594d8a2be17c780'}        1999             November   \n",
       "1  {'$oid': '52b213b38594d8a2be17c781'}        2015             November   \n",
       "\n",
       "      boardapprovaldate                                 borrower  \\\n",
       "0  2013-11-12T00:00:00Z  FEDERAL DEMOCRATIC REPUBLIC OF ETHIOPIA   \n",
       "1  2013-11-04T00:00:00Z                    GOVERNMENT OF TUNISIA   \n",
       "\n",
       "            closingdate                              country_namecode  \\\n",
       "0  2018-07-07T00:00:00Z  Federal Democratic Republic of Ethiopia!$!ET   \n",
       "1                   NaN                      Republic of Tunisia!$!TN   \n",
       "\n",
       "  countrycode                              countryname countryshortname  \\\n",
       "0          ET  Federal Democratic Republic of Ethiopia         Ethiopia   \n",
       "1          TN                      Republic of Tunisia          Tunisia   \n",
       "\n",
       "                         ...                           sectorcode source  \\\n",
       "0                        ...                          ET,BS,ES,EP   IBRD   \n",
       "1                        ...                                BZ,BS   IBRD   \n",
       "\n",
       "   status  supplementprojectflg  \\\n",
       "0  Active                     N   \n",
       "1  Active                     N   \n",
       "\n",
       "                                              theme1  \\\n",
       "0      {'Name': 'Education for all', 'Percent': 100}   \n",
       "1  {'Name': 'Other economic management', 'Percent...   \n",
       "\n",
       "                                      theme_namecode themecode   totalamt  \\\n",
       "0      [{'name': 'Education for all', 'code': '65'}]        65  130000000   \n",
       "1  [{'name': 'Other economic management', 'code':...     54,24          0   \n",
       "\n",
       "  totalcommamt                                                url  \n",
       "0    130000000  http://www.worldbank.org/projects/P129828/ethi...  \n",
       "1      4700000  http://www.worldbank.org/projects/P144674?lang=en  \n",
       "\n",
       "[2 rows x 50 columns]"
      ]
     },
     "execution_count": 14,
     "metadata": {},
     "output_type": "execute_result"
    }
   ],
   "source": [
    "# load as Pandas dataframe\n",
    "sample_json_df = pd.read_json('data/world_bank_projects_less.json')\n",
    "sample_json_df\n"
   ]
  },
  {
   "cell_type": "code",
   "execution_count": 19,
   "metadata": {},
   "outputs": [
    {
     "data": {
      "text/plain": [
       "Index(['_id', 'approvalfy', 'board_approval_month', 'boardapprovaldate',\n",
       "       'borrower', 'closingdate', 'country_namecode', 'countrycode',\n",
       "       'countryname', 'countryshortname', 'docty', 'envassesmentcategorycode',\n",
       "       'grantamt', 'ibrdcommamt', 'id', 'idacommamt', 'impagency',\n",
       "       'lendinginstr', 'lendinginstrtype', 'lendprojectcost',\n",
       "       'majorsector_percent', 'mjsector_namecode', 'mjtheme',\n",
       "       'mjtheme_namecode', 'mjthemecode', 'prodline', 'prodlinetext',\n",
       "       'productlinetype', 'project_abstract', 'project_name', 'projectdocs',\n",
       "       'projectfinancialtype', 'projectstatusdisplay', 'regionname', 'sector',\n",
       "       'sector1', 'sector2', 'sector3', 'sector4', 'sector_namecode',\n",
       "       'sectorcode', 'source', 'status', 'supplementprojectflg', 'theme1',\n",
       "       'theme_namecode', 'themecode', 'totalamt', 'totalcommamt', 'url'],\n",
       "      dtype='object')"
      ]
     },
     "execution_count": 19,
     "metadata": {},
     "output_type": "execute_result"
    }
   ],
   "source": [
    "## getting a quick glimpse of the structure \n",
    "\n",
    "wbp = pd.read_json('data/world_bank_projects.json')\n",
    "\n",
    "wbp.columns"
   ]
  },
  {
   "cell_type": "markdown",
   "metadata": {},
   "source": [
    "****\n",
    "## JSON exercise\n",
    "\n",
    "Using data in file 'data/world_bank_projects.json' and the techniques demonstrated above,\n",
    "1. Find the 10 countries with most projects\n",
    "2. Find the top 10 major project themes (using column 'mjtheme_namecode')\n",
    "3. In 2. above you will notice that some entries have only the code and the name is missing. Create a dataframe with the missing names filled in."
   ]
  },
  {
   "cell_type": "code",
   "execution_count": 38,
   "metadata": {},
   "outputs": [
    {
     "data": {
      "text/html": [
       "<div>\n",
       "<style scoped>\n",
       "    .dataframe tbody tr th:only-of-type {\n",
       "        vertical-align: middle;\n",
       "    }\n",
       "\n",
       "    .dataframe tbody tr th {\n",
       "        vertical-align: top;\n",
       "    }\n",
       "\n",
       "    .dataframe thead th {\n",
       "        text-align: right;\n",
       "    }\n",
       "</style>\n",
       "<table border=\"1\" class=\"dataframe\">\n",
       "  <thead>\n",
       "    <tr style=\"text-align: right;\">\n",
       "      <th></th>\n",
       "      <th>countryshortname</th>\n",
       "      <th>count</th>\n",
       "    </tr>\n",
       "  </thead>\n",
       "  <tbody>\n",
       "    <tr>\n",
       "      <th>23</th>\n",
       "      <td>China</td>\n",
       "      <td>19</td>\n",
       "    </tr>\n",
       "    <tr>\n",
       "      <th>45</th>\n",
       "      <td>Indonesia</td>\n",
       "      <td>19</td>\n",
       "    </tr>\n",
       "    <tr>\n",
       "      <th>112</th>\n",
       "      <td>Vietnam</td>\n",
       "      <td>17</td>\n",
       "    </tr>\n",
       "    <tr>\n",
       "      <th>44</th>\n",
       "      <td>India</td>\n",
       "      <td>16</td>\n",
       "    </tr>\n",
       "    <tr>\n",
       "      <th>115</th>\n",
       "      <td>Yemen, Republic of</td>\n",
       "      <td>13</td>\n",
       "    </tr>\n",
       "    <tr>\n",
       "      <th>73</th>\n",
       "      <td>Nepal</td>\n",
       "      <td>12</td>\n",
       "    </tr>\n",
       "    <tr>\n",
       "      <th>8</th>\n",
       "      <td>Bangladesh</td>\n",
       "      <td>12</td>\n",
       "    </tr>\n",
       "    <tr>\n",
       "      <th>69</th>\n",
       "      <td>Morocco</td>\n",
       "      <td>12</td>\n",
       "    </tr>\n",
       "    <tr>\n",
       "      <th>70</th>\n",
       "      <td>Mozambique</td>\n",
       "      <td>11</td>\n",
       "    </tr>\n",
       "    <tr>\n",
       "      <th>1</th>\n",
       "      <td>Africa</td>\n",
       "      <td>11</td>\n",
       "    </tr>\n",
       "  </tbody>\n",
       "</table>\n",
       "</div>"
      ],
      "text/plain": [
       "       countryshortname  count\n",
       "23                China     19\n",
       "45            Indonesia     19\n",
       "112             Vietnam     17\n",
       "44                India     16\n",
       "115  Yemen, Republic of     13\n",
       "73                Nepal     12\n",
       "8            Bangladesh     12\n",
       "69              Morocco     12\n",
       "70           Mozambique     11\n",
       "1                Africa     11"
      ]
     },
     "execution_count": 38,
     "metadata": {},
     "output_type": "execute_result"
    }
   ],
   "source": [
    "## 1. Find the 10 countries with most projects\n",
    "\n",
    "## 10 most projects by country name\n",
    "## I'm going to object to having Africa as a country\n",
    "## but that's also consistant in the columns 'countryshortname' and ''\n",
    "\n",
    "wbp.groupby('countryshortname').id.nunique().reset_index(name='count').sort_values(['count'], ascending=False).head(10)"
   ]
  },
  {
   "cell_type": "code",
   "execution_count": 604,
   "metadata": {
    "scrolled": false
   },
   "outputs": [
    {
     "name": "stdout",
     "output_type": "stream",
     "text": [
      "                                              Count of Codes\n",
      "Environment and natural resources management             135\n",
      "Rural development                                        135\n",
      "Public sector governance                                 126\n",
      "                                                         122\n",
      "Human development                                        118\n",
      "Social protection and risk management                    110\n",
      "Financial and private sector development                 104\n",
      "Social dev/gender/inclusion                              103\n",
      "Trade and integration                                     56\n",
      "Urban development                                         37\n"
     ]
    }
   ],
   "source": [
    "## 2) Find the top 10 major project themes (using column 'mjtheme_namecode')\n",
    "\n",
    "## Narrowing down to the proper column\n",
    "s=wbp['mjtheme_namecode'][:]\n",
    "\n",
    "dictd = dict()\n",
    "\n",
    "##looping through the set and extracting the unique values per entry and appending to the dictionary\n",
    "for record in s:\n",
    "    names = set([item['name'] for item in record]) \n",
    "    for name in names:\n",
    "        dictd[name] = dictd.get(name, 0) + 1 \n",
    "\n",
    "## converting the Dictionary to a data frame to spit out ordered values\n",
    "## note: there's almost certainly a cleaner, more pythonic way to print this out, but the brute force \n",
    "## approach is where we're going for now\n",
    "\n",
    "topTenCodes = OrderedDict(sorted(dictd.items(), key=lambda t: t[1],reverse=True)[:10])\n",
    "topTenCodes = pd.DataFrame.from_dict(topTenCodes, orient='index')\n",
    "topTenCodes.columns = ['Count of Codes']\n",
    "print(topTenCodes)\n"
   ]
  },
  {
   "cell_type": "code",
   "execution_count": 610,
   "metadata": {},
   "outputs": [
    {
     "data": {
      "text/plain": [
       "0      [{'code': '8', 'name': 'Human development'}, {...\n",
       "1      [{'code': '1', 'name': 'Economic management'},...\n",
       "2      [{'code': '5', 'name': 'Trade and integration'...\n",
       "3      [{'code': '7', 'name': 'Social dev/gender/incl...\n",
       "4      [{'code': '5', 'name': 'Trade and integration'...\n",
       "5      [{'code': '6', 'name': 'Social protection and ...\n",
       "6      [{'code': '2', 'name': 'Public sector governan...\n",
       "7      [{'code': '11', 'name': 'Environment and natur...\n",
       "8      [{'code': '10', 'name': 'Rural development'}, ...\n",
       "9      [{'code': '2', 'name': 'Public sector governan...\n",
       "10     [{'code': '10', 'name': 'Rural development'}, ...\n",
       "11     [{'code': '10', 'name': 'Rural development'}, ...\n",
       "12                           [{'code': '4', 'name': ''}]\n",
       "13     [{'code': '5', 'name': 'Trade and integration'...\n",
       "14     [{'code': '6', 'name': 'Social protection and ...\n",
       "15     [{'code': '10', 'name': 'Rural development'}, ...\n",
       "16     [{'code': '10', 'name': 'Rural development'}, ...\n",
       "17     [{'code': '8', 'name': 'Human development'}, {...\n",
       "18     [{'code': '8', 'name': 'Human development'}, {...\n",
       "19     [{'code': '2', 'name': 'Public sector governan...\n",
       "20     [{'code': '7', 'name': 'Social dev/gender/incl...\n",
       "21     [{'code': '9', 'name': 'Urban development'}, {...\n",
       "22     [{'code': '7', 'name': 'Social dev/gender/incl...\n",
       "23     [{'code': '8', 'name': 'Human development'}, {...\n",
       "24     [{'code': '10', 'name': 'Rural development'}, ...\n",
       "25     [{'code': '11', 'name': 'Environment and natur...\n",
       "26     [{'code': '4', 'name': 'Financial and private ...\n",
       "27     [{'code': '11', 'name': 'Environment and natur...\n",
       "28     [{'code': '10', 'name': 'Rural development'}, ...\n",
       "29     [{'code': '7', 'name': 'Social dev/gender/incl...\n",
       "                             ...                        \n",
       "470    [{'code': '5', 'name': 'Trade and integration'...\n",
       "471    [{'code': '10', 'name': 'Rural development'}, ...\n",
       "472    [{'code': '11', 'name': 'Environment and natur...\n",
       "473    [{'code': '11', 'name': 'Environment and natur...\n",
       "474    [{'code': '9', 'name': 'Urban development'}, {...\n",
       "475    [{'code': '4', 'name': 'Financial and private ...\n",
       "476    [{'code': '10', 'name': 'Rural development'}, ...\n",
       "477    [{'code': '4', 'name': 'Financial and private ...\n",
       "478    [{'code': '2', 'name': 'Public sector governan...\n",
       "479    [{'code': '7', 'name': 'Social dev/gender/incl...\n",
       "480    [{'code': '2', 'name': 'Public sector governan...\n",
       "481    [{'code': '8', 'name': 'Human development'}, {...\n",
       "482    [{'code': '10', 'name': 'Rural development'}, ...\n",
       "483    [{'code': '11', 'name': 'Environment and natur...\n",
       "484    [{'code': '10', 'name': 'Rural development'}, ...\n",
       "485    [{'code': '8', 'name': 'Human development'}, {...\n",
       "486    [{'code': '2', 'name': 'Public sector governan...\n",
       "487    [{'code': '11', 'name': 'Environment and natur...\n",
       "488    [{'code': '8', 'name': 'Human development'}, {...\n",
       "489    [{'code': '9', 'name': 'Urban development'}, {...\n",
       "490    [{'code': '2', 'name': 'Public sector governan...\n",
       "491    [{'code': '10', 'name': 'Rural development'}, ...\n",
       "492    [{'code': '8', 'name': 'Human development'}, {...\n",
       "493    [{'code': '11', 'name': 'Environment and natur...\n",
       "494    [{'code': '6', 'name': 'Social protection and ...\n",
       "495    [{'code': '4', 'name': 'Financial and private ...\n",
       "496    [{'code': '8', 'name': 'Human development'}, {...\n",
       "497    [{'code': '10', 'name': 'Rural development'}, ...\n",
       "498    [{'code': '10', 'name': 'Rural development'}, ...\n",
       "499    [{'code': '9', 'name': 'Urban development'}, {...\n",
       "Name: mjtheme_namecode, Length: 500, dtype: object"
      ]
     },
     "execution_count": 610,
     "metadata": {},
     "output_type": "execute_result"
    }
   ],
   "source": [
    "## In 2. above you will notice that some entries have only the code and the name is missing. \n",
    "## Create a dataframe with the missing names filled in.\n",
    "\n",
    "## From a glance it looks like the missing values "
   ]
  },
  {
   "cell_type": "code",
   "execution_count": 665,
   "metadata": {},
   "outputs": [
    {
     "ename": "AttributeError",
     "evalue": "'list' object has no attribute 'values'",
     "output_type": "error",
     "traceback": [
      "\u001b[0;31m---------------------------------------------------------------------------\u001b[0m",
      "\u001b[0;31mAttributeError\u001b[0m                            Traceback (most recent call last)",
      "\u001b[0;32m<ipython-input-665-98b8ea1ee07c>\u001b[0m in \u001b[0;36m<module>\u001b[0;34m\u001b[0m\n\u001b[0;32m----> 1\u001b[0;31m \u001b[0mpd\u001b[0m\u001b[0;34m.\u001b[0m\u001b[0mio\u001b[0m\u001b[0;34m.\u001b[0m\u001b[0mjson\u001b[0m\u001b[0;34m.\u001b[0m\u001b[0mjson_normalize\u001b[0m\u001b[0;34m(\u001b[0m\u001b[0ms\u001b[0m\u001b[0;34m)\u001b[0m\u001b[0;34m\u001b[0m\u001b[0;34m\u001b[0m\u001b[0m\n\u001b[0m",
      "\u001b[0;32m/anaconda3/lib/python3.7/site-packages/pandas/io/json/normalize.py\u001b[0m in \u001b[0;36mjson_normalize\u001b[0;34m(data, record_path, meta, meta_prefix, record_prefix, errors, sep)\u001b[0m\n\u001b[1;32m    196\u001b[0m     \u001b[0;32mif\u001b[0m \u001b[0mrecord_path\u001b[0m \u001b[0;32mis\u001b[0m \u001b[0;32mNone\u001b[0m\u001b[0;34m:\u001b[0m\u001b[0;34m\u001b[0m\u001b[0;34m\u001b[0m\u001b[0m\n\u001b[1;32m    197\u001b[0m         if any([[isinstance(x, dict)\n\u001b[0;32m--> 198\u001b[0;31m                 for x in compat.itervalues(y)] for y in data]):\n\u001b[0m\u001b[1;32m    199\u001b[0m             \u001b[0;31m# naive normalization, this is idempotent for flat records\u001b[0m\u001b[0;34m\u001b[0m\u001b[0;34m\u001b[0m\u001b[0;34m\u001b[0m\u001b[0m\n\u001b[1;32m    200\u001b[0m             \u001b[0;31m# and potentially will inflate the data considerably for\u001b[0m\u001b[0;34m\u001b[0m\u001b[0;34m\u001b[0m\u001b[0;34m\u001b[0m\u001b[0m\n",
      "\u001b[0;32m/anaconda3/lib/python3.7/site-packages/pandas/io/json/normalize.py\u001b[0m in \u001b[0;36m<listcomp>\u001b[0;34m(.0)\u001b[0m\n\u001b[1;32m    196\u001b[0m     \u001b[0;32mif\u001b[0m \u001b[0mrecord_path\u001b[0m \u001b[0;32mis\u001b[0m \u001b[0;32mNone\u001b[0m\u001b[0;34m:\u001b[0m\u001b[0;34m\u001b[0m\u001b[0;34m\u001b[0m\u001b[0m\n\u001b[1;32m    197\u001b[0m         if any([[isinstance(x, dict)\n\u001b[0;32m--> 198\u001b[0;31m                 for x in compat.itervalues(y)] for y in data]):\n\u001b[0m\u001b[1;32m    199\u001b[0m             \u001b[0;31m# naive normalization, this is idempotent for flat records\u001b[0m\u001b[0;34m\u001b[0m\u001b[0;34m\u001b[0m\u001b[0;34m\u001b[0m\u001b[0m\n\u001b[1;32m    200\u001b[0m             \u001b[0;31m# and potentially will inflate the data considerably for\u001b[0m\u001b[0;34m\u001b[0m\u001b[0;34m\u001b[0m\u001b[0;34m\u001b[0m\u001b[0m\n",
      "\u001b[0;32m/anaconda3/lib/python3.7/site-packages/pandas/compat/__init__.py\u001b[0m in \u001b[0;36mitervalues\u001b[0;34m(obj, **kw)\u001b[0m\n\u001b[1;32m    210\u001b[0m \u001b[0;34m\u001b[0m\u001b[0m\n\u001b[1;32m    211\u001b[0m     \u001b[0;32mdef\u001b[0m \u001b[0mitervalues\u001b[0m\u001b[0;34m(\u001b[0m\u001b[0mobj\u001b[0m\u001b[0;34m,\u001b[0m \u001b[0;34m**\u001b[0m\u001b[0mkw\u001b[0m\u001b[0;34m)\u001b[0m\u001b[0;34m:\u001b[0m\u001b[0;34m\u001b[0m\u001b[0;34m\u001b[0m\u001b[0m\n\u001b[0;32m--> 212\u001b[0;31m         \u001b[0;32mreturn\u001b[0m \u001b[0miter\u001b[0m\u001b[0;34m(\u001b[0m\u001b[0mobj\u001b[0m\u001b[0;34m.\u001b[0m\u001b[0mvalues\u001b[0m\u001b[0;34m(\u001b[0m\u001b[0;34m**\u001b[0m\u001b[0mkw\u001b[0m\u001b[0;34m)\u001b[0m\u001b[0;34m)\u001b[0m\u001b[0;34m\u001b[0m\u001b[0;34m\u001b[0m\u001b[0m\n\u001b[0m\u001b[1;32m    213\u001b[0m \u001b[0;34m\u001b[0m\u001b[0m\n\u001b[1;32m    214\u001b[0m     \u001b[0mnext\u001b[0m \u001b[0;34m=\u001b[0m \u001b[0mnext\u001b[0m\u001b[0;34m\u001b[0m\u001b[0;34m\u001b[0m\u001b[0m\n",
      "\u001b[0;31mAttributeError\u001b[0m: 'list' object has no attribute 'values'"
     ]
    }
   ],
   "source": [
    "pd.io.json.json_normalize(w"
   ]
  },
  {
   "cell_type": "code",
   "execution_count": 688,
   "metadata": {},
   "outputs": [
    {
     "ename": "TypeError",
     "evalue": "string indices must be integers",
     "output_type": "error",
     "traceback": [
      "\u001b[0;31m---------------------------------------------------------------------------\u001b[0m",
      "\u001b[0;31mTypeError\u001b[0m                                 Traceback (most recent call last)",
      "\u001b[0;32m<ipython-input-688-beadd84a1888>\u001b[0m in \u001b[0;36m<module>\u001b[0;34m\u001b[0m\n\u001b[1;32m      2\u001b[0m \u001b[0;34m\u001b[0m\u001b[0m\n\u001b[1;32m      3\u001b[0m \u001b[0;34m\u001b[0m\u001b[0m\n\u001b[0;32m----> 4\u001b[0;31m \u001b[0mpd\u001b[0m\u001b[0;34m.\u001b[0m\u001b[0mio\u001b[0m\u001b[0;34m.\u001b[0m\u001b[0mjson\u001b[0m\u001b[0;34m.\u001b[0m\u001b[0mjson_normalize\u001b[0m\u001b[0;34m(\u001b[0m\u001b[0mwbp\u001b[0m\u001b[0;34m,\u001b[0m\u001b[0;34m[\u001b[0m\u001b[0;34m'mjtheme_namecode'\u001b[0m\u001b[0;34m]\u001b[0m\u001b[0;34m,\u001b[0m\u001b[0;34m[\u001b[0m\u001b[0;34m'code'\u001b[0m\u001b[0;34m,\u001b[0m\u001b[0;34m'name'\u001b[0m\u001b[0;34m]\u001b[0m\u001b[0;34m)\u001b[0m\u001b[0;34m\u001b[0m\u001b[0;34m\u001b[0m\u001b[0m\n\u001b[0m",
      "\u001b[0;32m/anaconda3/lib/python3.7/site-packages/pandas/io/json/normalize.py\u001b[0m in \u001b[0;36mjson_normalize\u001b[0;34m(data, record_path, meta, meta_prefix, record_prefix, errors, sep)\u001b[0m\n\u001b[1;32m    260\u001b[0m                 \u001b[0mrecords\u001b[0m\u001b[0;34m.\u001b[0m\u001b[0mextend\u001b[0m\u001b[0;34m(\u001b[0m\u001b[0mrecs\u001b[0m\u001b[0;34m)\u001b[0m\u001b[0;34m\u001b[0m\u001b[0;34m\u001b[0m\u001b[0m\n\u001b[1;32m    261\u001b[0m \u001b[0;34m\u001b[0m\u001b[0m\n\u001b[0;32m--> 262\u001b[0;31m     \u001b[0m_recursive_extract\u001b[0m\u001b[0;34m(\u001b[0m\u001b[0mdata\u001b[0m\u001b[0;34m,\u001b[0m \u001b[0mrecord_path\u001b[0m\u001b[0;34m,\u001b[0m \u001b[0;34m{\u001b[0m\u001b[0;34m}\u001b[0m\u001b[0;34m,\u001b[0m \u001b[0mlevel\u001b[0m\u001b[0;34m=\u001b[0m\u001b[0;36m0\u001b[0m\u001b[0;34m)\u001b[0m\u001b[0;34m\u001b[0m\u001b[0;34m\u001b[0m\u001b[0m\n\u001b[0m\u001b[1;32m    263\u001b[0m \u001b[0;34m\u001b[0m\u001b[0m\n\u001b[1;32m    264\u001b[0m     \u001b[0mresult\u001b[0m \u001b[0;34m=\u001b[0m \u001b[0mDataFrame\u001b[0m\u001b[0;34m(\u001b[0m\u001b[0mrecords\u001b[0m\u001b[0;34m)\u001b[0m\u001b[0;34m\u001b[0m\u001b[0;34m\u001b[0m\u001b[0m\n",
      "\u001b[0;32m/anaconda3/lib/python3.7/site-packages/pandas/io/json/normalize.py\u001b[0m in \u001b[0;36m_recursive_extract\u001b[0;34m(data, path, seen_meta, level)\u001b[0m\n\u001b[1;32m    236\u001b[0m         \u001b[0;32melse\u001b[0m\u001b[0;34m:\u001b[0m\u001b[0;34m\u001b[0m\u001b[0;34m\u001b[0m\u001b[0m\n\u001b[1;32m    237\u001b[0m             \u001b[0;32mfor\u001b[0m \u001b[0mobj\u001b[0m \u001b[0;32min\u001b[0m \u001b[0mdata\u001b[0m\u001b[0;34m:\u001b[0m\u001b[0;34m\u001b[0m\u001b[0;34m\u001b[0m\u001b[0m\n\u001b[0;32m--> 238\u001b[0;31m                 \u001b[0mrecs\u001b[0m \u001b[0;34m=\u001b[0m \u001b[0m_pull_field\u001b[0m\u001b[0;34m(\u001b[0m\u001b[0mobj\u001b[0m\u001b[0;34m,\u001b[0m \u001b[0mpath\u001b[0m\u001b[0;34m[\u001b[0m\u001b[0;36m0\u001b[0m\u001b[0;34m]\u001b[0m\u001b[0;34m)\u001b[0m\u001b[0;34m\u001b[0m\u001b[0;34m\u001b[0m\u001b[0m\n\u001b[0m\u001b[1;32m    239\u001b[0m \u001b[0;34m\u001b[0m\u001b[0m\n\u001b[1;32m    240\u001b[0m                 \u001b[0;31m# For repeating the metadata later\u001b[0m\u001b[0;34m\u001b[0m\u001b[0;34m\u001b[0m\u001b[0;34m\u001b[0m\u001b[0m\n",
      "\u001b[0;32m/anaconda3/lib/python3.7/site-packages/pandas/io/json/normalize.py\u001b[0m in \u001b[0;36m_pull_field\u001b[0;34m(js, spec)\u001b[0m\n\u001b[1;32m    183\u001b[0m                 \u001b[0mresult\u001b[0m \u001b[0;34m=\u001b[0m \u001b[0mresult\u001b[0m\u001b[0;34m[\u001b[0m\u001b[0mfield\u001b[0m\u001b[0;34m]\u001b[0m\u001b[0;34m\u001b[0m\u001b[0;34m\u001b[0m\u001b[0m\n\u001b[1;32m    184\u001b[0m         \u001b[0;32melse\u001b[0m\u001b[0;34m:\u001b[0m\u001b[0;34m\u001b[0m\u001b[0;34m\u001b[0m\u001b[0m\n\u001b[0;32m--> 185\u001b[0;31m             \u001b[0mresult\u001b[0m \u001b[0;34m=\u001b[0m \u001b[0mresult\u001b[0m\u001b[0;34m[\u001b[0m\u001b[0mspec\u001b[0m\u001b[0;34m]\u001b[0m\u001b[0;34m\u001b[0m\u001b[0;34m\u001b[0m\u001b[0m\n\u001b[0m\u001b[1;32m    186\u001b[0m \u001b[0;34m\u001b[0m\u001b[0m\n\u001b[1;32m    187\u001b[0m         \u001b[0;32mreturn\u001b[0m \u001b[0mresult\u001b[0m\u001b[0;34m\u001b[0m\u001b[0;34m\u001b[0m\u001b[0m\n",
      "\u001b[0;31mTypeError\u001b[0m: string indices must be integers"
     ]
    }
   ],
   "source": [
    "wbp = pd.read_json('data/world_bank_projects.json')\n",
    "\n",
    "\n",
    "pd.io.json.json_normalize(wbp,['mjtheme_namecode'][:,['code','name'])"
   ]
  },
  {
   "cell_type": "code",
   "execution_count": 695,
   "metadata": {},
   "outputs": [
    {
     "ename": "TypeError",
     "evalue": "string indices must be integers",
     "output_type": "error",
     "traceback": [
      "\u001b[0;31m---------------------------------------------------------------------------\u001b[0m",
      "\u001b[0;31mTypeError\u001b[0m                                 Traceback (most recent call last)",
      "\u001b[0;32m<ipython-input-695-54b841519c14>\u001b[0m in \u001b[0;36m<module>\u001b[0;34m\u001b[0m\n\u001b[0;32m----> 1\u001b[0;31m \u001b[0mpd\u001b[0m\u001b[0;34m.\u001b[0m\u001b[0mio\u001b[0m\u001b[0;34m.\u001b[0m\u001b[0mjson\u001b[0m\u001b[0;34m.\u001b[0m\u001b[0mjson_normalize\u001b[0m\u001b[0;34m(\u001b[0m\u001b[0mwbp\u001b[0m\u001b[0;34m[\u001b[0m\u001b[0;34m'mjtheme_namecode'\u001b[0m\u001b[0;34m]\u001b[0m\u001b[0;34m[\u001b[0m\u001b[0;36m1\u001b[0m\u001b[0;34m]\u001b[0m\u001b[0;34m,\u001b[0m\u001b[0;34m[\u001b[0m\u001b[0;34m'code'\u001b[0m\u001b[0;34m,\u001b[0m\u001b[0;34m'name'\u001b[0m\u001b[0;34m]\u001b[0m\u001b[0;34m)\u001b[0m\u001b[0;34m\u001b[0m\u001b[0;34m\u001b[0m\u001b[0m\n\u001b[0m",
      "\u001b[0;32m/anaconda3/lib/python3.7/site-packages/pandas/io/json/normalize.py\u001b[0m in \u001b[0;36mjson_normalize\u001b[0;34m(data, record_path, meta, meta_prefix, record_prefix, errors, sep)\u001b[0m\n\u001b[1;32m    260\u001b[0m                 \u001b[0mrecords\u001b[0m\u001b[0;34m.\u001b[0m\u001b[0mextend\u001b[0m\u001b[0;34m(\u001b[0m\u001b[0mrecs\u001b[0m\u001b[0;34m)\u001b[0m\u001b[0;34m\u001b[0m\u001b[0;34m\u001b[0m\u001b[0m\n\u001b[1;32m    261\u001b[0m \u001b[0;34m\u001b[0m\u001b[0m\n\u001b[0;32m--> 262\u001b[0;31m     \u001b[0m_recursive_extract\u001b[0m\u001b[0;34m(\u001b[0m\u001b[0mdata\u001b[0m\u001b[0;34m,\u001b[0m \u001b[0mrecord_path\u001b[0m\u001b[0;34m,\u001b[0m \u001b[0;34m{\u001b[0m\u001b[0;34m}\u001b[0m\u001b[0;34m,\u001b[0m \u001b[0mlevel\u001b[0m\u001b[0;34m=\u001b[0m\u001b[0;36m0\u001b[0m\u001b[0;34m)\u001b[0m\u001b[0;34m\u001b[0m\u001b[0;34m\u001b[0m\u001b[0m\n\u001b[0m\u001b[1;32m    263\u001b[0m \u001b[0;34m\u001b[0m\u001b[0m\n\u001b[1;32m    264\u001b[0m     \u001b[0mresult\u001b[0m \u001b[0;34m=\u001b[0m \u001b[0mDataFrame\u001b[0m\u001b[0;34m(\u001b[0m\u001b[0mrecords\u001b[0m\u001b[0;34m)\u001b[0m\u001b[0;34m\u001b[0m\u001b[0;34m\u001b[0m\u001b[0m\n",
      "\u001b[0;32m/anaconda3/lib/python3.7/site-packages/pandas/io/json/normalize.py\u001b[0m in \u001b[0;36m_recursive_extract\u001b[0;34m(data, path, seen_meta, level)\u001b[0m\n\u001b[1;32m    233\u001b[0m \u001b[0;34m\u001b[0m\u001b[0m\n\u001b[1;32m    234\u001b[0m                 _recursive_extract(obj[path[0]], path[1:],\n\u001b[0;32m--> 235\u001b[0;31m                                    seen_meta, level=level + 1)\n\u001b[0m\u001b[1;32m    236\u001b[0m         \u001b[0;32melse\u001b[0m\u001b[0;34m:\u001b[0m\u001b[0;34m\u001b[0m\u001b[0;34m\u001b[0m\u001b[0m\n\u001b[1;32m    237\u001b[0m             \u001b[0;32mfor\u001b[0m \u001b[0mobj\u001b[0m \u001b[0;32min\u001b[0m \u001b[0mdata\u001b[0m\u001b[0;34m:\u001b[0m\u001b[0;34m\u001b[0m\u001b[0;34m\u001b[0m\u001b[0m\n",
      "\u001b[0;32m/anaconda3/lib/python3.7/site-packages/pandas/io/json/normalize.py\u001b[0m in \u001b[0;36m_recursive_extract\u001b[0;34m(data, path, seen_meta, level)\u001b[0m\n\u001b[1;32m    236\u001b[0m         \u001b[0;32melse\u001b[0m\u001b[0;34m:\u001b[0m\u001b[0;34m\u001b[0m\u001b[0;34m\u001b[0m\u001b[0m\n\u001b[1;32m    237\u001b[0m             \u001b[0;32mfor\u001b[0m \u001b[0mobj\u001b[0m \u001b[0;32min\u001b[0m \u001b[0mdata\u001b[0m\u001b[0;34m:\u001b[0m\u001b[0;34m\u001b[0m\u001b[0;34m\u001b[0m\u001b[0m\n\u001b[0;32m--> 238\u001b[0;31m                 \u001b[0mrecs\u001b[0m \u001b[0;34m=\u001b[0m \u001b[0m_pull_field\u001b[0m\u001b[0;34m(\u001b[0m\u001b[0mobj\u001b[0m\u001b[0;34m,\u001b[0m \u001b[0mpath\u001b[0m\u001b[0;34m[\u001b[0m\u001b[0;36m0\u001b[0m\u001b[0;34m]\u001b[0m\u001b[0;34m)\u001b[0m\u001b[0;34m\u001b[0m\u001b[0;34m\u001b[0m\u001b[0m\n\u001b[0m\u001b[1;32m    239\u001b[0m \u001b[0;34m\u001b[0m\u001b[0m\n\u001b[1;32m    240\u001b[0m                 \u001b[0;31m# For repeating the metadata later\u001b[0m\u001b[0;34m\u001b[0m\u001b[0;34m\u001b[0m\u001b[0;34m\u001b[0m\u001b[0m\n",
      "\u001b[0;32m/anaconda3/lib/python3.7/site-packages/pandas/io/json/normalize.py\u001b[0m in \u001b[0;36m_pull_field\u001b[0;34m(js, spec)\u001b[0m\n\u001b[1;32m    183\u001b[0m                 \u001b[0mresult\u001b[0m \u001b[0;34m=\u001b[0m \u001b[0mresult\u001b[0m\u001b[0;34m[\u001b[0m\u001b[0mfield\u001b[0m\u001b[0;34m]\u001b[0m\u001b[0;34m\u001b[0m\u001b[0;34m\u001b[0m\u001b[0m\n\u001b[1;32m    184\u001b[0m         \u001b[0;32melse\u001b[0m\u001b[0;34m:\u001b[0m\u001b[0;34m\u001b[0m\u001b[0;34m\u001b[0m\u001b[0m\n\u001b[0;32m--> 185\u001b[0;31m             \u001b[0mresult\u001b[0m \u001b[0;34m=\u001b[0m \u001b[0mresult\u001b[0m\u001b[0;34m[\u001b[0m\u001b[0mspec\u001b[0m\u001b[0;34m]\u001b[0m\u001b[0;34m\u001b[0m\u001b[0;34m\u001b[0m\u001b[0m\n\u001b[0m\u001b[1;32m    186\u001b[0m \u001b[0;34m\u001b[0m\u001b[0m\n\u001b[1;32m    187\u001b[0m         \u001b[0;32mreturn\u001b[0m \u001b[0mresult\u001b[0m\u001b[0;34m\u001b[0m\u001b[0;34m\u001b[0m\u001b[0m\n",
      "\u001b[0;31mTypeError\u001b[0m: string indices must be integers"
     ]
    }
   ],
   "source": [
    "pd.io.json.json_normalize(wbp['mjtheme_namecode'][1],['code','name'])"
   ]
  },
  {
   "cell_type": "code",
   "execution_count": 696,
   "metadata": {},
   "outputs": [
    {
     "data": {
      "text/plain": [
       "<class 'pandas.core.series.Series'>"
      ]
     },
     "execution_count": 696,
     "metadata": {},
     "output_type": "execute_result"
    }
   ],
   "source": [
    "type(wbp['mjtheme_namecode'])"
   ]
  },
  {
   "cell_type": "code",
   "execution_count": 705,
   "metadata": {},
   "outputs": [],
   "source": [
    "j = dict(s)"
   ]
  },
  {
   "cell_type": "code",
   "execution_count": 706,
   "metadata": {},
   "outputs": [
    {
     "data": {
      "text/plain": [
       "<class 'dict'>"
      ]
     },
     "execution_count": 706,
     "metadata": {},
     "output_type": "execute_result"
    }
   ],
   "source": [
    "type(j)"
   ]
  },
  {
   "cell_type": "code",
   "execution_count": 707,
   "metadata": {},
   "outputs": [
    {
     "data": {
      "text/plain": [
       "{0: [{'code': '8', 'name': 'Human development'}, {'code': '11', 'name': ''}], 1: [{'code': '1', 'name': 'Economic management'}, {'code': '6', 'name': 'Social protection and risk management'}], 2: [{'code': '5', 'name': 'Trade and integration'}, {'code': '2', 'name': 'Public sector governance'}, {'code': '11', 'name': 'Environment and natural resources management'}, {'code': '6', 'name': 'Social protection and risk management'}], 3: [{'code': '7', 'name': 'Social dev/gender/inclusion'}, {'code': '7', 'name': 'Social dev/gender/inclusion'}], 4: [{'code': '5', 'name': 'Trade and integration'}, {'code': '4', 'name': 'Financial and private sector development'}], 5: [{'code': '6', 'name': 'Social protection and risk management'}, {'code': '6', 'name': ''}], 6: [{'code': '2', 'name': 'Public sector governance'}, {'code': '4', 'name': 'Financial and private sector development'}], 7: [{'code': '11', 'name': 'Environment and natural resources management'}, {'code': '8', 'name': ''}], 8: [{'code': '10', 'name': 'Rural development'}, {'code': '7', 'name': ''}], 9: [{'code': '2', 'name': 'Public sector governance'}, {'code': '2', 'name': 'Public sector governance'}, {'code': '2', 'name': 'Public sector governance'}], 10: [{'code': '10', 'name': 'Rural development'}, {'code': '2', 'name': ''}], 11: [{'code': '10', 'name': 'Rural development'}, {'code': '6', 'name': 'Social protection and risk management'}, {'code': '6', 'name': 'Social protection and risk management'}, {'code': '11', 'name': 'Environment and natural resources management'}], 12: [{'code': '4', 'name': ''}], 13: [{'code': '5', 'name': 'Trade and integration'}, {'code': '11', 'name': 'Environment and natural resources management'}, {'code': '10', 'name': 'Rural development'}], 14: [{'code': '6', 'name': 'Social protection and risk management'}, {'code': '6', 'name': 'Social protection and risk management'}, {'code': '6', 'name': 'Social protection and risk management'}], 15: [{'code': '10', 'name': 'Rural development'}, {'code': '11', 'name': 'Environment and natural resources management'}, {'code': '5', 'name': 'Trade and integration'}], 16: [{'code': '10', 'name': 'Rural development'}, {'code': '2', 'name': ''}], 17: [{'code': '8', 'name': 'Human development'}, {'code': '7', 'name': ''}], 18: [{'code': '8', 'name': 'Human development'}, {'code': '8', 'name': 'Human development'}, {'code': '2', 'name': 'Public sector governance'}, {'code': '7', 'name': 'Social dev/gender/inclusion'}, {'code': '8', 'name': 'Human development'}], 19: [{'code': '2', 'name': 'Public sector governance'}, {'code': '2', 'name': 'Public sector governance'}, {'code': '2', 'name': 'Public sector governance'}], 20: [{'code': '7', 'name': 'Social dev/gender/inclusion'}, {'code': '7', 'name': 'Social dev/gender/inclusion'}], 21: [{'code': '9', 'name': 'Urban development'}, {'code': '7', 'name': 'Social dev/gender/inclusion'}], 22: [{'code': '7', 'name': 'Social dev/gender/inclusion'}, {'code': '7', 'name': 'Social dev/gender/inclusion'}], 23: [{'code': '8', 'name': 'Human development'}, {'code': '8', 'name': 'Human development'}], 24: [{'code': '10', 'name': 'Rural development'}, {'code': '10', 'name': 'Rural development'}, {'code': '10', 'name': 'Rural development'}, {'code': '6', 'name': 'Social protection and risk management'}], 25: [{'code': '11', 'name': 'Environment and natural resources management'}, {'code': '11', 'name': 'Environment and natural resources management'}, {'code': '11', 'name': 'Environment and natural resources management'}], 26: [{'code': '4', 'name': 'Financial and private sector development'}, {'code': '5', 'name': 'Trade and integration'}, {'code': '2', 'name': 'Public sector governance'}, {'code': '8', 'name': 'Human development'}], 27: [{'code': '11', 'name': 'Environment and natural resources management'}, {'code': '2', 'name': 'Public sector governance'}, {'code': '5', 'name': 'Trade and integration'}, {'code': '6', 'name': 'Social protection and risk management'}], 28: [{'code': '10', 'name': 'Rural development'}, {'code': '10', 'name': 'Rural development'}, {'code': '7', 'name': 'Social dev/gender/inclusion'}], 29: [{'code': '7', 'name': 'Social dev/gender/inclusion'}, {'code': '11', 'name': 'Environment and natural resources management'}], 30: [{'code': '8', 'name': 'Human development'}, {'code': '4', 'name': ''}], 31: [{'code': '11', 'name': 'Environment and natural resources management'}, {'code': '11', 'name': 'Environment and natural resources management'}, {'code': '11', 'name': 'Environment and natural resources management'}, {'code': '11', 'name': 'Environment and natural resources management'}], 32: [{'code': '11', 'name': 'Environment and natural resources management'}, {'code': '4', 'name': 'Financial and private sector development'}], 33: [{'code': '6', 'name': 'Social protection and risk management'}, {'code': '1', 'name': 'Economic management'}, {'code': '4', 'name': 'Financial and private sector development'}], 34: [{'code': '2', 'name': 'Public sector governance'}, {'code': '8', 'name': 'Human development'}, {'code': '5', 'name': 'Trade and integration'}, {'code': '5', 'name': 'Trade and integration'}], 35: [{'code': '7', 'name': 'Social dev/gender/inclusion'}, {'code': '10', 'name': 'Rural development'}, {'code': '4', 'name': 'Financial and private sector development'}], 36: [{'code': '10', 'name': 'Rural development'}, {'code': '11', 'name': ''}], 37: [{'code': '6', 'name': 'Social protection and risk management'}, {'code': '7', 'name': ''}], 38: [{'code': '11', 'name': 'Environment and natural resources management'}, {'code': '11', 'name': 'Environment and natural resources management'}, {'code': '6', 'name': 'Social protection and risk management'}, {'code': '11', 'name': 'Environment and natural resources management'}, {'code': '11', 'name': 'Environment and natural resources management'}], 39: [{'code': '2', 'name': 'Public sector governance'}, {'code': '4', 'name': ''}], 40: [{'code': '11', 'name': 'Environment and natural resources management'}, {'code': '6', 'name': 'Social protection and risk management'}, {'code': '11', 'name': 'Environment and natural resources management'}, {'code': '11', 'name': 'Environment and natural resources management'}], 41: [{'code': '4', 'name': 'Financial and private sector development'}, {'code': '8', 'name': 'Human development'}], 42: [{'code': '2', 'name': 'Public sector governance'}, {'code': '2', 'name': 'Public sector governance'}], 43: [{'code': '2', 'name': 'Public sector governance'}, {'code': '8', 'name': ''}], 44: [{'code': '11', 'name': 'Environment and natural resources management'}, {'code': '7', 'name': ''}], 45: [{'code': '8', 'name': 'Human development'}, {'code': '10', 'name': ''}], 46: [{'code': '2', 'name': 'Public sector governance'}, {'code': '10', 'name': 'Rural development'}, {'code': '4', 'name': 'Financial and private sector development'}, {'code': '4', 'name': 'Financial and private sector development'}], 47: [{'code': '11', 'name': 'Environment and natural resources management'}, {'code': '11', 'name': ''}], 48: [{'code': '4', 'name': 'Financial and private sector development'}, {'code': '4', 'name': 'Financial and private sector development'}], 49: [{'code': '7', 'name': 'Social dev/gender/inclusion'}, {'code': '6', 'name': 'Social protection and risk management'}, {'code': '2', 'name': 'Public sector governance'}], 50: [{'code': '11', 'name': 'Environment and natural resources management'}, {'code': '4', 'name': ''}], 51: [{'code': '11', 'name': 'Environment and natural resources management'}, {'code': '11', 'name': 'Environment and natural resources management'}, {'code': '11', 'name': 'Environment and natural resources management'}, {'code': '11', 'name': 'Environment and natural resources management'}, {'code': '11', 'name': 'Environment and natural resources management'}], 52: [{'code': '11', 'name': 'Environment and natural resources management'}, {'code': '11', 'name': 'Environment and natural resources management'}], 53: [{'code': '10', 'name': 'Rural development'}, {'code': '2', 'name': 'Public sector governance'}, {'code': '5', 'name': 'Trade and integration'}, {'code': '2', 'name': 'Public sector governance'}], 54: [{'code': '8', 'name': 'Human development'}, {'code': '8', 'name': 'Human development'}, {'code': '8', 'name': 'Human development'}], 55: [{'code': '11', 'name': 'Environment and natural resources management'}, {'code': '7', 'name': 'Social dev/gender/inclusion'}, {'code': '11', 'name': 'Environment and natural resources management'}, {'code': '11', 'name': 'Environment and natural resources management'}, {'code': '11', 'name': 'Environment and natural resources management'}], 56: [{'code': '4', 'name': 'Financial and private sector development'}, {'code': '4', 'name': 'Financial and private sector development'}], 57: [{'code': '11', 'name': 'Environment and natural resources management'}, {'code': '2', 'name': 'Public sector governance'}, {'code': '10', 'name': 'Rural development'}, {'code': '10', 'name': 'Rural development'}], 58: [{'code': '11', 'name': 'Environment and natural resources management'}, {'code': '11', 'name': 'Environment and natural resources management'}], 59: [{'code': '2', 'name': 'Public sector governance'}, {'code': '7', 'name': 'Social dev/gender/inclusion'}], 60: [{'code': '2', 'name': 'Public sector governance'}, {'code': '10', 'name': ''}], 61: [{'code': '5', 'name': 'Trade and integration'}, {'code': '6', 'name': 'Social protection and risk management'}, {'code': '10', 'name': 'Rural development'}, {'code': '10', 'name': 'Rural development'}], 62: [{'code': '11', 'name': 'Environment and natural resources management'}, {'code': '4', 'name': ''}], 63: [{'code': '6', 'name': 'Social protection and risk management'}, {'code': '2', 'name': ''}], 64: [{'code': '6', 'name': 'Social protection and risk management'}, {'code': '1', 'name': 'Economic management'}, {'code': '2', 'name': 'Public sector governance'}, {'code': '11', 'name': 'Environment and natural resources management'}, {'code': '2', 'name': 'Public sector governance'}], 65: [{'code': '4', 'name': 'Financial and private sector development'}, {'code': '7', 'name': 'Social dev/gender/inclusion'}, {'code': '10', 'name': 'Rural development'}, {'code': '5', 'name': 'Trade and integration'}], 66: [{'code': '9', 'name': 'Urban development'}, {'code': '11', 'name': 'Environment and natural resources management'}], 67: [{'code': '7', 'name': ''}], 68: [{'code': '8', 'name': 'Human development'}, {'code': '11', 'name': ''}], 69: [{'code': '7', 'name': 'Social dev/gender/inclusion'}, {'code': '6', 'name': 'Social protection and risk management'}], 70: [{'code': '8', 'name': 'Human development'}, {'code': '8', 'name': 'Human development'}, {'code': '8', 'name': 'Human development'}], 71: [{'code': '4', 'name': 'Financial and private sector development'}, {'code': '9', 'name': 'Urban development'}, {'code': '10', 'name': 'Rural development'}], 72: [{'code': '11', 'name': 'Environment and natural resources management'}, {'code': '4', 'name': ''}], 73: [{'code': '4', 'name': 'Financial and private sector development'}, {'code': '4', 'name': 'Financial and private sector development'}], 74: [{'code': '9', 'name': 'Urban development'}, {'code': '5', 'name': ''}], 75: [{'code': '2', 'name': 'Public sector governance'}, {'code': '5', 'name': 'Trade and integration'}, {'code': '1', 'name': 'Economic management'}, {'code': '1', 'name': 'Economic management'}, {'code': '8', 'name': 'Human development'}], 76: [{'code': '4', 'name': 'Financial and private sector development'}, {'code': '4', 'name': 'Financial and private sector development'}], 77: [{'code': '11', 'name': 'Environment and natural resources management'}, {'code': '11', 'name': ''}], 78: [{'code': '2', 'name': 'Public sector governance'}, {'code': '1', 'name': ''}], 79: [{'code': '6', 'name': 'Social protection and risk management'}, {'code': '6', 'name': 'Social protection and risk management'}, {'code': '6', 'name': 'Social protection and risk management'}], 80: [{'code': '2', 'name': 'Public sector governance'}, {'code': '10', 'name': ''}], 81: [{'code': '2', 'name': 'Public sector governance'}, {'code': '4', 'name': 'Financial and private sector development'}, {'code': '1', 'name': 'Economic management'}], 82: [{'code': '6', 'name': 'Social protection and risk management'}, {'code': '1', 'name': 'Economic management'}], 83: [{'code': '1', 'name': 'Economic management'}, {'code': '7', 'name': 'Social dev/gender/inclusion'}], 84: [{'code': '5', 'name': 'Trade and integration'}, {'code': '2', 'name': 'Public sector governance'}, {'code': '2', 'name': 'Public sector governance'}, {'code': '8', 'name': 'Human development'}], 85: [{'code': '8', 'name': 'Human development'}, {'code': '4', 'name': ''}], 86: [{'code': '2', 'name': 'Public sector governance'}, {'code': '6', 'name': ''}], 87: [{'code': '11', 'name': ''}], 88: [{'code': '2', 'name': 'Public sector governance'}, {'code': '4', 'name': ''}], 89: [{'code': '7', 'name': 'Social dev/gender/inclusion'}, {'code': '8', 'name': 'Human development'}, {'code': '8', 'name': 'Human development'}], 90: [{'code': '8', 'name': 'Human development'}, {'code': '8', 'name': ''}], 91: [{'code': '4', 'name': 'Financial and private sector development'}, {'code': '11', 'name': ''}], 92: [{'code': '11', 'name': 'Environment and natural resources management'}, {'code': '4', 'name': 'Financial and private sector development'}], 93: [{'code': '8', 'name': 'Human development'}, {'code': '5', 'name': 'Trade and integration'}, {'code': '4', 'name': 'Financial and private sector development'}, {'code': '7', 'name': 'Social dev/gender/inclusion'}], 94: [{'code': '1', 'name': 'Economic management'}, {'code': '6', 'name': 'Social protection and risk management'}], 95: [{'code': '4', 'name': 'Financial and private sector development'}, {'code': '3', 'name': 'Rule of law'}, {'code': '4', 'name': 'Financial and private sector development'}], 96: [{'code': '4', 'name': 'Financial and private sector development'}, {'code': '10', 'name': 'Rural development'}, {'code': '10', 'name': 'Rural development'}, {'code': '10', 'name': 'Rural development'}], 97: [{'code': '10', 'name': 'Rural development'}, {'code': '10', 'name': 'Rural development'}, {'code': '7', 'name': 'Social dev/gender/inclusion'}, {'code': '10', 'name': 'Rural development'}, {'code': '10', 'name': 'Rural development'}], 98: [{'code': '5', 'name': 'Trade and integration'}, {'code': '4', 'name': 'Financial and private sector development'}, {'code': '5', 'name': 'Trade and integration'}], 99: [{'code': '5', 'name': 'Trade and integration'}, {'code': '5', 'name': 'Trade and integration'}, {'code': '2', 'name': 'Public sector governance'}, {'code': '10', 'name': 'Rural development'}], 100: [{'code': '11', 'name': 'Environment and natural resources management'}, {'code': '10', 'name': 'Rural development'}, {'code': '10', 'name': 'Rural development'}, {'code': '10', 'name': 'Rural development'}], 101: [{'code': '4', 'name': 'Financial and private sector development'}, {'code': '10', 'name': ''}], 102: [{'code': '2', 'name': ''}], 103: [{'code': '11', 'name': ''}], 104: [{'code': '8', 'name': 'Human development'}, {'code': '8', 'name': 'Human development'}, {'code': '2', 'name': 'Public sector governance'}, {'code': '5', 'name': 'Trade and integration'}, {'code': '6', 'name': 'Social protection and risk management'}], 105: [{'code': '11', 'name': 'Environment and natural resources management'}, {'code': '11', 'name': 'Environment and natural resources management'}], 106: [{'code': '4', 'name': 'Financial and private sector development'}, {'code': '5', 'name': 'Trade and integration'}], 107: [{'code': '11', 'name': 'Environment and natural resources management'}, {'code': '2', 'name': 'Public sector governance'}, {'code': '2', 'name': 'Public sector governance'}, {'code': '2', 'name': 'Public sector governance'}], 108: [{'code': '11', 'name': 'Environment and natural resources management'}, {'code': '6', 'name': 'Social protection and risk management'}, {'code': '7', 'name': 'Social dev/gender/inclusion'}, {'code': '11', 'name': 'Environment and natural resources management'}, {'code': '7', 'name': 'Social dev/gender/inclusion'}], 109: [{'code': '4', 'name': 'Financial and private sector development'}, {'code': '2', 'name': ''}], 110: [{'code': '7', 'name': 'Social dev/gender/inclusion'}, {'code': '6', 'name': 'Social protection and risk management'}, {'code': '6', 'name': 'Social protection and risk management'}, {'code': '2', 'name': 'Public sector governance'}], 111: [{'code': '8', 'name': 'Human development'}, {'code': '10', 'name': 'Rural development'}, {'code': '7', 'name': 'Social dev/gender/inclusion'}, {'code': '8', 'name': 'Human development'}, {'code': '2', 'name': 'Public sector governance'}], 112: [{'code': '8', 'name': 'Human development'}, {'code': '6', 'name': 'Social protection and risk management'}, {'code': '7', 'name': 'Social dev/gender/inclusion'}, {'code': '2', 'name': 'Public sector governance'}, {'code': '6', 'name': 'Social protection and risk management'}], 113: [{'code': '2', 'name': 'Public sector governance'}, {'code': '4', 'name': 'Financial and private sector development'}, {'code': '10', 'name': 'Rural development'}, {'code': '8', 'name': 'Human development'}], 114: [{'code': '4', 'name': 'Financial and private sector development'}, {'code': '5', 'name': 'Trade and integration'}], 115: [{'code': '9', 'name': 'Urban development'}, {'code': '2', 'name': 'Public sector governance'}, {'code': '9', 'name': 'Urban development'}], 116: [{'code': '6', 'name': 'Social protection and risk management'}, {'code': '6', 'name': 'Social protection and risk management'}], 117: [{'code': '8', 'name': 'Human development'}, {'code': '8', 'name': 'Human development'}], 118: [{'code': '7', 'name': 'Social dev/gender/inclusion'}, {'code': '6', 'name': 'Social protection and risk management'}, {'code': '6', 'name': 'Social protection and risk management'}, {'code': '6', 'name': 'Social protection and risk management'}], 119: [{'code': '6', 'name': 'Social protection and risk management'}, {'code': '6', 'name': 'Social protection and risk management'}], 120: [{'code': '4', 'name': 'Financial and private sector development'}, {'code': '2', 'name': ''}], 121: [{'code': '9', 'name': ''}], 122: [{'code': '6', 'name': 'Social protection and risk management'}, {'code': '10', 'name': 'Rural development'}, {'code': '10', 'name': 'Rural development'}], 123: [{'code': '10', 'name': 'Rural development'}, {'code': '11', 'name': 'Environment and natural resources management'}, {'code': '2', 'name': 'Public sector governance'}], 124: [{'code': '2', 'name': 'Public sector governance'}, {'code': '9', 'name': 'Urban development'}], 125: [{'code': '6', 'name': 'Social protection and risk management'}, {'code': '11', 'name': 'Environment and natural resources management'}, {'code': '10', 'name': 'Rural development'}], 126: [{'code': '2', 'name': 'Public sector governance'}, {'code': '2', 'name': 'Public sector governance'}, {'code': '6', 'name': 'Social protection and risk management'}, {'code': '10', 'name': 'Rural development'}], 127: [{'code': '2', 'name': 'Public sector governance'}, {'code': '2', 'name': 'Public sector governance'}, {'code': '2', 'name': 'Public sector governance'}], 128: [{'code': '2', 'name': 'Public sector governance'}, {'code': '10', 'name': 'Rural development'}, {'code': '9', 'name': 'Urban development'}, {'code': '2', 'name': 'Public sector governance'}, {'code': '9', 'name': 'Urban development'}], 129: [{'code': '1', 'name': 'Economic management'}, {'code': '2', 'name': 'Public sector governance'}, {'code': '3', 'name': 'Rule of law'}, {'code': '6', 'name': 'Social protection and risk management'}, {'code': '6', 'name': 'Social protection and risk management'}], 130: [{'code': '4', 'name': 'Financial and private sector development'}, {'code': '1', 'name': ''}], 131: [{'code': '4', 'name': 'Financial and private sector development'}, {'code': '7', 'name': ''}], 132: [{'code': '6', 'name': 'Social protection and risk management'}, {'code': '2', 'name': 'Public sector governance'}, {'code': '11', 'name': 'Environment and natural resources management'}, {'code': '9', 'name': 'Urban development'}], 133: [{'code': '2', 'name': 'Public sector governance'}, {'code': '8', 'name': 'Human development'}, {'code': '2', 'name': 'Public sector governance'}, {'code': '8', 'name': 'Human development'}, {'code': '11', 'name': 'Environment and natural resources management'}], 134: [{'code': '11', 'name': 'Environment and natural resources management'}, {'code': '5', 'name': 'Trade and integration'}, {'code': '11', 'name': 'Environment and natural resources management'}, {'code': '4', 'name': 'Financial and private sector development'}, {'code': '6', 'name': 'Social protection and risk management'}], 135: [{'code': '2', 'name': 'Public sector governance'}, {'code': '7', 'name': 'Social dev/gender/inclusion'}, {'code': '2', 'name': 'Public sector governance'}, {'code': '2', 'name': 'Public sector governance'}], 136: [{'code': '6', 'name': 'Social protection and risk management'}, {'code': '6', 'name': 'Social protection and risk management'}], 137: [{'code': '8', 'name': 'Human development'}, {'code': '8', 'name': 'Human development'}], 138: [{'code': '2', 'name': 'Public sector governance'}, {'code': '11', 'name': ''}], 139: [{'code': '4', 'name': 'Financial and private sector development'}, {'code': '10', 'name': ''}], 140: [{'code': '10', 'name': 'Rural development'}, {'code': '5', 'name': 'Trade and integration'}, {'code': '4', 'name': 'Financial and private sector development'}, {'code': '4', 'name': 'Financial and private sector development'}, {'code': '5', 'name': 'Trade and integration'}], 141: [{'code': '5', 'name': 'Trade and integration'}, {'code': '4', 'name': 'Financial and private sector development'}, {'code': '4', 'name': 'Financial and private sector development'}, {'code': '2', 'name': 'Public sector governance'}], 142: [{'code': '6', 'name': 'Social protection and risk management'}, {'code': '10', 'name': 'Rural development'}, {'code': '11', 'name': 'Environment and natural resources management'}], 143: [{'code': '2', 'name': 'Public sector governance'}, {'code': '4', 'name': ''}], 144: [{'code': '4', 'name': 'Financial and private sector development'}, {'code': '11', 'name': ''}], 145: [{'code': '11', 'name': 'Environment and natural resources management'}, {'code': '7', 'name': 'Social dev/gender/inclusion'}, {'code': '11', 'name': 'Environment and natural resources management'}, {'code': '11', 'name': 'Environment and natural resources management'}], 146: [{'code': '11', 'name': 'Environment and natural resources management'}, {'code': '8', 'name': 'Human development'}, {'code': '9', 'name': 'Urban development'}], 147: [{'code': '3', 'name': 'Rule of law'}, {'code': '5', 'name': 'Trade and integration'}, {'code': '4', 'name': 'Financial and private sector development'}, {'code': '6', 'name': 'Social protection and risk management'}], 148: [{'code': '11', 'name': 'Environment and natural resources management'}, {'code': '2', 'name': 'Public sector governance'}, {'code': '11', 'name': 'Environment and natural resources management'}, {'code': '11', 'name': 'Environment and natural resources management'}], 149: [{'code': '11', 'name': 'Environment and natural resources management'}, {'code': '10', 'name': ''}], 150: [{'code': '4', 'name': 'Financial and private sector development'}, {'code': '7', 'name': 'Social dev/gender/inclusion'}, {'code': '4', 'name': 'Financial and private sector development'}], 151: [{'code': '6', 'name': 'Social protection and risk management'}, {'code': '6', 'name': 'Social protection and risk management'}, {'code': '6', 'name': 'Social protection and risk management'}, {'code': '2', 'name': 'Public sector governance'}], 152: [{'code': '11', 'name': 'Environment and natural resources management'}, {'code': '8', 'name': ''}], 153: [{'code': '11', 'name': 'Environment and natural resources management'}, {'code': '10', 'name': ''}], 154: [{'code': '6', 'name': 'Social protection and risk management'}, {'code': '10', 'name': 'Rural development'}, {'code': '10', 'name': 'Rural development'}, {'code': '7', 'name': 'Social dev/gender/inclusion'}], 155: [{'code': '10', 'name': 'Rural development'}, {'code': '7', 'name': 'Social dev/gender/inclusion'}, {'code': '4', 'name': 'Financial and private sector development'}, {'code': '11', 'name': 'Environment and natural resources management'}, {'code': '10', 'name': 'Rural development'}], 156: [{'code': '11', 'name': 'Environment and natural resources management'}, {'code': '11', 'name': ''}], 157: [{'code': '9', 'name': 'Urban development'}, {'code': '4', 'name': 'Financial and private sector development'}, {'code': '11', 'name': 'Environment and natural resources management'}], 158: [{'code': '6', 'name': 'Social protection and risk management'}, {'code': '2', 'name': 'Public sector governance'}, {'code': '4', 'name': 'Financial and private sector development'}, {'code': '1', 'name': 'Economic management'}], 159: [{'code': '1', 'name': 'Economic management'}, {'code': '4', 'name': 'Financial and private sector development'}, {'code': '2', 'name': 'Public sector governance'}, {'code': '10', 'name': 'Rural development'}, {'code': '1', 'name': 'Economic management'}], 160: [{'code': '8', 'name': 'Human development'}, {'code': '9', 'name': ''}], 161: [{'code': '8', 'name': 'Human development'}, {'code': '2', 'name': ''}], 162: [{'code': '11', 'name': 'Environment and natural resources management'}, {'code': '11', 'name': 'Environment and natural resources management'}], 163: [{'code': '8', 'name': 'Human development'}, {'code': '8', 'name': 'Human development'}, {'code': '8', 'name': 'Human development'}, {'code': '8', 'name': 'Human development'}, {'code': '8', 'name': 'Human development'}], 164: [{'code': '11', 'name': 'Environment and natural resources management'}, {'code': '9', 'name': ''}], 165: [{'code': '11', 'name': 'Environment and natural resources management'}, {'code': '11', 'name': 'Environment and natural resources management'}, {'code': '11', 'name': 'Environment and natural resources management'}], 166: [{'code': '2', 'name': 'Public sector governance'}, {'code': '11', 'name': 'Environment and natural resources management'}, {'code': '11', 'name': 'Environment and natural resources management'}, {'code': '10', 'name': 'Rural development'}, {'code': '10', 'name': 'Rural development'}], 167: [{'code': '5', 'name': 'Trade and integration'}, {'code': '4', 'name': 'Financial and private sector development'}, {'code': '4', 'name': 'Financial and private sector development'}, {'code': '5', 'name': 'Trade and integration'}], 168: [{'code': '8', 'name': 'Human development'}, {'code': '8', 'name': 'Human development'}], 169: [{'code': '2', 'name': ''}], 170: [{'code': '5', 'name': 'Trade and integration'}, {'code': '4', 'name': 'Financial and private sector development'}], 171: [{'code': '2', 'name': 'Public sector governance'}, {'code': '8', 'name': 'Human development'}, {'code': '2', 'name': 'Public sector governance'}], 172: [{'code': '7', 'name': 'Social dev/gender/inclusion'}, {'code': '3', 'name': ''}], 173: [{'code': '4', 'name': 'Financial and private sector development'}, {'code': '6', 'name': 'Social protection and risk management'}, {'code': '2', 'name': 'Public sector governance'}, {'code': '1', 'name': 'Economic management'}], 174: [{'code': '5', 'name': 'Trade and integration'}, {'code': '6', 'name': 'Social protection and risk management'}, {'code': '2', 'name': 'Public sector governance'}, {'code': '2', 'name': 'Public sector governance'}], 175: [{'code': '2', 'name': 'Public sector governance'}, {'code': '11', 'name': 'Environment and natural resources management'}, {'code': '11', 'name': 'Environment and natural resources management'}, {'code': '10', 'name': 'Rural development'}, {'code': '10', 'name': 'Rural development'}], 176: [{'code': '2', 'name': 'Public sector governance'}, {'code': '3', 'name': 'Rule of law'}, {'code': '3', 'name': 'Rule of law'}], 177: [{'code': '7', 'name': 'Social dev/gender/inclusion'}, {'code': '11', 'name': 'Environment and natural resources management'}, {'code': '9', 'name': 'Urban development'}, {'code': '9', 'name': 'Urban development'}], 178: [{'code': '8', 'name': 'Human development'}, {'code': '6', 'name': 'Social protection and risk management'}, {'code': '2', 'name': 'Public sector governance'}, {'code': '2', 'name': 'Public sector governance'}, {'code': '2', 'name': 'Public sector governance'}], 179: [{'code': '11', 'name': 'Environment and natural resources management'}, {'code': '11', 'name': 'Environment and natural resources management'}, {'code': '11', 'name': 'Environment and natural resources management'}, {'code': '10', 'name': 'Rural development'}, {'code': '11', 'name': 'Environment and natural resources management'}], 180: [{'code': '6', 'name': 'Social protection and risk management'}, {'code': '8', 'name': 'Human development'}], 181: [{'code': '10', 'name': 'Rural development'}, {'code': '10', 'name': 'Rural development'}, {'code': '11', 'name': 'Environment and natural resources management'}], 182: [{'code': '4', 'name': 'Financial and private sector development'}, {'code': '11', 'name': 'Environment and natural resources management'}], 183: [{'code': '10', 'name': 'Rural development'}, {'code': '4', 'name': ''}], 184: [{'code': '5', 'name': 'Trade and integration'}, {'code': '5', 'name': 'Trade and integration'}, {'code': '9', 'name': 'Urban development'}, {'code': '8', 'name': 'Human development'}], 185: [{'code': '6', 'name': 'Social protection and risk management'}, {'code': '8', 'name': 'Human development'}, {'code': '6', 'name': 'Social protection and risk management'}, {'code': '8', 'name': 'Human development'}, {'code': '8', 'name': 'Human development'}], 186: [{'code': '6', 'name': 'Social protection and risk management'}, {'code': '4', 'name': 'Financial and private sector development'}, {'code': '4', 'name': 'Financial and private sector development'}], 187: [{'code': '7', 'name': 'Social dev/gender/inclusion'}, {'code': '2', 'name': 'Public sector governance'}, {'code': '8', 'name': 'Human development'}, {'code': '10', 'name': 'Rural development'}, {'code': '8', 'name': 'Human development'}], 188: [{'code': '6', 'name': 'Social protection and risk management'}, {'code': '8', 'name': 'Human development'}], 189: [{'code': '6', 'name': 'Social protection and risk management'}, {'code': '6', 'name': 'Social protection and risk management'}, {'code': '6', 'name': 'Social protection and risk management'}, {'code': '6', 'name': 'Social protection and risk management'}], 190: [{'code': '2', 'name': 'Public sector governance'}, {'code': '2', 'name': 'Public sector governance'}, {'code': '2', 'name': 'Public sector governance'}], 191: [{'code': '4', 'name': 'Financial and private sector development'}, {'code': '5', 'name': 'Trade and integration'}], 192: [{'code': '8', 'name': 'Human development'}, {'code': '11', 'name': ''}], 193: [{'code': '11', 'name': 'Environment and natural resources management'}, {'code': '7', 'name': 'Social dev/gender/inclusion'}, {'code': '11', 'name': 'Environment and natural resources management'}, {'code': '11', 'name': 'Environment and natural resources management'}], 194: [{'code': '11', 'name': 'Environment and natural resources management'}, {'code': '11', 'name': 'Environment and natural resources management'}, {'code': '11', 'name': 'Environment and natural resources management'}], 195: [{'code': '9', 'name': 'Urban development'}, {'code': '2', 'name': 'Public sector governance'}], 196: [{'code': '4', 'name': 'Financial and private sector development'}, {'code': '10', 'name': 'Rural development'}, {'code': '8', 'name': 'Human development'}], 197: [{'code': '8', 'name': 'Human development'}, {'code': '8', 'name': 'Human development'}], 198: [{'code': '2', 'name': 'Public sector governance'}, {'code': '2', 'name': 'Public sector governance'}, {'code': '2', 'name': 'Public sector governance'}, {'code': '7', 'name': 'Social dev/gender/inclusion'}, {'code': '2', 'name': 'Public sector governance'}], 199: [{'code': '4', 'name': 'Financial and private sector development'}, {'code': '5', 'name': 'Trade and integration'}], 200: [{'code': '5', 'name': 'Trade and integration'}, {'code': '9', 'name': 'Urban development'}], 201: [{'code': '11', 'name': 'Environment and natural resources management'}, {'code': '11', 'name': 'Environment and natural resources management'}, {'code': '11', 'name': 'Environment and natural resources management'}], 202: [{'code': '7', 'name': 'Social dev/gender/inclusion'}, {'code': '2', 'name': ''}], 203: [{'code': '2', 'name': 'Public sector governance'}, {'code': '2', 'name': 'Public sector governance'}, {'code': '2', 'name': 'Public sector governance'}], 204: [{'code': '11', 'name': 'Environment and natural resources management'}, {'code': '6', 'name': 'Social protection and risk management'}, {'code': '6', 'name': 'Social protection and risk management'}], 205: [{'code': '9', 'name': 'Urban development'}, {'code': '9', 'name': 'Urban development'}], 206: [{'code': '5', 'name': 'Trade and integration'}, {'code': '2', 'name': 'Public sector governance'}, {'code': '5', 'name': 'Trade and integration'}], 207: [{'code': '10', 'name': 'Rural development'}, {'code': '11', 'name': 'Environment and natural resources management'}, {'code': '4', 'name': 'Financial and private sector development'}, {'code': '4', 'name': 'Financial and private sector development'}, {'code': '5', 'name': 'Trade and integration'}], 208: [{'code': '2', 'name': 'Public sector governance'}, {'code': '2', 'name': 'Public sector governance'}, {'code': '7', 'name': 'Social dev/gender/inclusion'}], 209: [{'code': '2', 'name': 'Public sector governance'}, {'code': '6', 'name': ''}], 210: [{'code': '8', 'name': 'Human development'}, {'code': '8', 'name': 'Human development'}, {'code': '8', 'name': 'Human development'}, {'code': '8', 'name': 'Human development'}, {'code': '7', 'name': 'Social dev/gender/inclusion'}], 211: [{'code': '6', 'name': 'Social protection and risk management'}, {'code': '8', 'name': 'Human development'}, {'code': '6', 'name': 'Social protection and risk management'}, {'code': '8', 'name': 'Human development'}, {'code': '8', 'name': 'Human development'}], 212: [{'code': '7', 'name': 'Social dev/gender/inclusion'}, {'code': '10', 'name': 'Rural development'}], 213: [{'code': '7', 'name': 'Social dev/gender/inclusion'}, {'code': '8', 'name': 'Human development'}], 214: [{'code': '8', 'name': 'Human development'}, {'code': '8', 'name': 'Human development'}], 215: [{'code': '6', 'name': 'Social protection and risk management'}, {'code': '8', 'name': 'Human development'}, {'code': '7', 'name': 'Social dev/gender/inclusion'}], 216: [{'code': '11', 'name': 'Environment and natural resources management'}, {'code': '11', 'name': 'Environment and natural resources management'}, {'code': '11', 'name': 'Environment and natural resources management'}, {'code': '5', 'name': 'Trade and integration'}, {'code': '11', 'name': 'Environment and natural resources management'}], 217: [{'code': '6', 'name': 'Social protection and risk management'}, {'code': '8', 'name': 'Human development'}, {'code': '8', 'name': 'Human development'}, {'code': '6', 'name': 'Social protection and risk management'}], 218: [{'code': '8', 'name': 'Human development'}, {'code': '8', 'name': 'Human development'}], 219: [{'code': '5', 'name': 'Trade and integration'}, {'code': '2', 'name': 'Public sector governance'}, {'code': '6', 'name': 'Social protection and risk management'}, {'code': '2', 'name': 'Public sector governance'}, {'code': '10', 'name': 'Rural development'}], 220: [{'code': '1', 'name': 'Economic management'}, {'code': '1', 'name': 'Economic management'}, {'code': '2', 'name': 'Public sector governance'}], 221: [{'code': '9', 'name': 'Urban development'}, {'code': '11', 'name': 'Environment and natural resources management'}, {'code': '11', 'name': 'Environment and natural resources management'}], 222: [{'code': '4', 'name': 'Financial and private sector development'}, {'code': '5', 'name': 'Trade and integration'}], 223: [{'code': '11', 'name': 'Environment and natural resources management'}, {'code': '11', 'name': 'Environment and natural resources management'}], 224: [{'code': '5', 'name': 'Trade and integration'}, {'code': '4', 'name': 'Financial and private sector development'}, {'code': '2', 'name': 'Public sector governance'}], 225: [{'code': '2', 'name': 'Public sector governance'}, {'code': '2', 'name': 'Public sector governance'}], 226: [{'code': '11', 'name': 'Environment and natural resources management'}, {'code': '10', 'name': ''}], 227: [{'code': '11', 'name': 'Environment and natural resources management'}, {'code': '2', 'name': 'Public sector governance'}], 228: [{'code': '10', 'name': 'Rural development'}, {'code': '11', 'name': 'Environment and natural resources management'}, {'code': '11', 'name': 'Environment and natural resources management'}], 229: [{'code': '9', 'name': 'Urban development'}, {'code': '4', 'name': 'Financial and private sector development'}, {'code': '4', 'name': 'Financial and private sector development'}], 230: [{'code': '10', 'name': 'Rural development'}, {'code': '10', 'name': 'Rural development'}, {'code': '4', 'name': 'Financial and private sector development'}, {'code': '10', 'name': 'Rural development'}, {'code': '11', 'name': 'Environment and natural resources management'}], 231: [{'code': '6', 'name': 'Social protection and risk management'}, {'code': '2', 'name': ''}], 232: [{'code': '7', 'name': 'Social dev/gender/inclusion'}, {'code': '8', 'name': ''}], 233: [{'code': '8', 'name': 'Human development'}, {'code': '11', 'name': ''}], 234: [{'code': '11', 'name': 'Environment and natural resources management'}, {'code': '7', 'name': ''}], 235: [{'code': '11', 'name': 'Environment and natural resources management'}, {'code': '11', 'name': ''}], 236: [{'code': '8', 'name': 'Human development'}, {'code': '8', 'name': 'Human development'}, {'code': '8', 'name': 'Human development'}], 237: [{'code': '7', 'name': 'Social dev/gender/inclusion'}, {'code': '3', 'name': ''}], 238: [{'code': '10', 'name': 'Rural development'}, {'code': '8', 'name': 'Human development'}], 239: [{'code': '11', 'name': 'Environment and natural resources management'}, {'code': '10', 'name': ''}], 240: [{'code': '8', 'name': 'Human development'}, {'code': '8', 'name': 'Human development'}, {'code': '8', 'name': 'Human development'}, {'code': '8', 'name': 'Human development'}], 241: [{'code': '8', 'name': 'Human development'}, {'code': '11', 'name': ''}], 242: [{'code': '7', 'name': 'Social dev/gender/inclusion'}, {'code': '8', 'name': 'Human development'}, {'code': '10', 'name': 'Rural development'}], 243: [{'code': '4', 'name': 'Financial and private sector development'}, {'code': '2', 'name': 'Public sector governance'}, {'code': '2', 'name': 'Public sector governance'}], 244: [{'code': '10', 'name': 'Rural development'}, {'code': '7', 'name': 'Social dev/gender/inclusion'}, {'code': '10', 'name': 'Rural development'}, {'code': '8', 'name': 'Human development'}, {'code': '7', 'name': 'Social dev/gender/inclusion'}], 245: [{'code': '8', 'name': 'Human development'}, {'code': '8', 'name': 'Human development'}, {'code': '8', 'name': 'Human development'}, {'code': '8', 'name': 'Human development'}, {'code': '8', 'name': 'Human development'}], 246: [{'code': '6', 'name': 'Social protection and risk management'}, {'code': '7', 'name': 'Social dev/gender/inclusion'}, {'code': '8', 'name': 'Human development'}, {'code': '6', 'name': 'Social protection and risk management'}], 247: [{'code': '8', 'name': 'Human development'}, {'code': '7', 'name': 'Social dev/gender/inclusion'}], 248: [{'code': '10', 'name': 'Rural development'}, {'code': '11', 'name': 'Environment and natural resources management'}, {'code': '11', 'name': 'Environment and natural resources management'}, {'code': '10', 'name': 'Rural development'}, {'code': '10', 'name': 'Rural development'}], 249: [{'code': '11', 'name': 'Environment and natural resources management'}, {'code': '10', 'name': 'Rural development'}, {'code': '10', 'name': 'Rural development'}], 250: [{'code': '9', 'name': 'Urban development'}, {'code': '11', 'name': 'Environment and natural resources management'}, {'code': '11', 'name': 'Environment and natural resources management'}], 251: [{'code': '8', 'name': 'Human development'}, {'code': '8', 'name': 'Human development'}], 252: [{'code': '9', 'name': 'Urban development'}, {'code': '9', 'name': 'Urban development'}], 253: [{'code': '9', 'name': 'Urban development'}, {'code': '7', 'name': 'Social dev/gender/inclusion'}, {'code': '7', 'name': 'Social dev/gender/inclusion'}, {'code': '9', 'name': 'Urban development'}], 254: [{'code': '6', 'name': 'Social protection and risk management'}, {'code': '10', 'name': 'Rural development'}, {'code': '6', 'name': 'Social protection and risk management'}], 255: [{'code': '2', 'name': 'Public sector governance'}, {'code': '10', 'name': 'Rural development'}, {'code': '11', 'name': 'Environment and natural resources management'}], 256: [{'code': '10', 'name': 'Rural development'}, {'code': '10', 'name': 'Rural development'}, {'code': '10', 'name': 'Rural development'}, {'code': '10', 'name': 'Rural development'}, {'code': '10', 'name': 'Rural development'}], 257: [{'code': '7', 'name': 'Social dev/gender/inclusion'}, {'code': '10', 'name': 'Rural development'}, {'code': '10', 'name': 'Rural development'}, {'code': '6', 'name': 'Social protection and risk management'}], 258: [{'code': '8', 'name': 'Human development'}, {'code': '8', 'name': 'Human development'}, {'code': '8', 'name': 'Human development'}, {'code': '8', 'name': 'Human development'}], 259: [{'code': '4', 'name': 'Financial and private sector development'}, {'code': '11', 'name': 'Environment and natural resources management'}], 260: [{'code': '10', 'name': 'Rural development'}, {'code': '10', 'name': 'Rural development'}, {'code': '10', 'name': 'Rural development'}, {'code': '10', 'name': 'Rural development'}], 261: [{'code': '2', 'name': 'Public sector governance'}, {'code': '8', 'name': 'Human development'}, {'code': '5', 'name': 'Trade and integration'}, {'code': '2', 'name': 'Public sector governance'}, {'code': '6', 'name': 'Social protection and risk management'}], 262: [{'code': '8', 'name': 'Human development'}, {'code': '8', 'name': 'Human development'}, {'code': '8', 'name': 'Human development'}, {'code': '8', 'name': 'Human development'}], 263: [{'code': '4', 'name': 'Financial and private sector development'}, {'code': '11', 'name': 'Environment and natural resources management'}], 264: [{'code': '4', 'name': 'Financial and private sector development'}, {'code': '4', 'name': 'Financial and private sector development'}], 265: [{'code': '4', 'name': 'Financial and private sector development'}, {'code': '5', 'name': 'Trade and integration'}, {'code': '2', 'name': 'Public sector governance'}, {'code': '1', 'name': 'Economic management'}, {'code': '2', 'name': 'Public sector governance'}], 266: [{'code': '6', 'name': 'Social protection and risk management'}, {'code': '7', 'name': 'Social dev/gender/inclusion'}, {'code': '11', 'name': 'Environment and natural resources management'}, {'code': '3', 'name': 'Rule of law'}, {'code': '10', 'name': 'Rural development'}], 267: [{'code': '10', 'name': 'Rural development'}, {'code': '8', 'name': 'Human development'}, {'code': '8', 'name': 'Human development'}], 268: [{'code': '4', 'name': 'Financial and private sector development'}, {'code': '7', 'name': 'Social dev/gender/inclusion'}, {'code': '11', 'name': 'Environment and natural resources management'}, {'code': '11', 'name': 'Environment and natural resources management'}, {'code': '4', 'name': 'Financial and private sector development'}], 269: [{'code': '7', 'name': 'Social dev/gender/inclusion'}, {'code': '6', 'name': 'Social protection and risk management'}, {'code': '6', 'name': 'Social protection and risk management'}, {'code': '6', 'name': 'Social protection and risk management'}], 270: [{'code': '1', 'name': 'Economic management'}, {'code': '6', 'name': 'Social protection and risk management'}, {'code': '2', 'name': 'Public sector governance'}, {'code': '6', 'name': 'Social protection and risk management'}, {'code': '2', 'name': 'Public sector governance'}], 271: [{'code': '2', 'name': 'Public sector governance'}, {'code': '4', 'name': 'Financial and private sector development'}, {'code': '4', 'name': 'Financial and private sector development'}], 272: [{'code': '6', 'name': 'Social protection and risk management'}, {'code': '7', 'name': 'Social dev/gender/inclusion'}, {'code': '6', 'name': 'Social protection and risk management'}], 273: [{'code': '2', 'name': 'Public sector governance'}, {'code': '10', 'name': 'Rural development'}, {'code': '4', 'name': 'Financial and private sector development'}], 274: [{'code': '2', 'name': 'Public sector governance'}, {'code': '4', 'name': 'Financial and private sector development'}, {'code': '10', 'name': 'Rural development'}, {'code': '2', 'name': 'Public sector governance'}, {'code': '8', 'name': 'Human development'}], 275: [{'code': '9', 'name': 'Urban development'}, {'code': '11', 'name': 'Environment and natural resources management'}], 276: [{'code': '10', 'name': ''}], 277: [{'code': '11', 'name': 'Environment and natural resources management'}, {'code': '10', 'name': 'Rural development'}, {'code': '11', 'name': 'Environment and natural resources management'}, {'code': '11', 'name': 'Environment and natural resources management'}], 278: [{'code': '11', 'name': 'Environment and natural resources management'}, {'code': '7', 'name': ''}], 279: [{'code': '11', 'name': 'Environment and natural resources management'}, {'code': '11', 'name': 'Environment and natural resources management'}], 280: [{'code': '11', 'name': 'Environment and natural resources management'}, {'code': '6', 'name': 'Social protection and risk management'}], 281: [{'code': '4', 'name': 'Financial and private sector development'}, {'code': '6', 'name': ''}], 282: [{'code': '4', 'name': 'Financial and private sector development'}, {'code': '2', 'name': 'Public sector governance'}, {'code': '2', 'name': 'Public sector governance'}, {'code': '4', 'name': 'Financial and private sector development'}, {'code': '1', 'name': 'Economic management'}], 283: [{'code': '2', 'name': 'Public sector governance'}, {'code': '4', 'name': 'Financial and private sector development'}, {'code': '8', 'name': 'Human development'}, {'code': '8', 'name': 'Human development'}, {'code': '4', 'name': 'Financial and private sector development'}], 284: [{'code': '4', 'name': 'Financial and private sector development'}, {'code': '4', 'name': 'Financial and private sector development'}, {'code': '10', 'name': 'Rural development'}], 285: [{'code': '8', 'name': 'Human development'}, {'code': '2', 'name': 'Public sector governance'}, {'code': '8', 'name': 'Human development'}], 286: [{'code': '6', 'name': 'Social protection and risk management'}, {'code': '10', 'name': 'Rural development'}], 287: [{'code': '10', 'name': 'Rural development'}, {'code': '5', 'name': 'Trade and integration'}, {'code': '5', 'name': 'Trade and integration'}], 288: [{'code': '2', 'name': 'Public sector governance'}, {'code': '8', 'name': 'Human development'}], 289: [{'code': '11', 'name': 'Environment and natural resources management'}, {'code': '11', 'name': 'Environment and natural resources management'}, {'code': '11', 'name': 'Environment and natural resources management'}, {'code': '10', 'name': 'Rural development'}, {'code': '11', 'name': 'Environment and natural resources management'}], 290: [{'code': '7', 'name': 'Social dev/gender/inclusion'}, {'code': '6', 'name': 'Social protection and risk management'}, {'code': '6', 'name': 'Social protection and risk management'}, {'code': '6', 'name': 'Social protection and risk management'}, {'code': '6', 'name': 'Social protection and risk management'}], 291: [{'code': '11', 'name': 'Environment and natural resources management'}, {'code': '10', 'name': 'Rural development'}], 292: [{'code': '11', 'name': 'Environment and natural resources management'}, {'code': '11', 'name': 'Environment and natural resources management'}], 293: [{'code': '4', 'name': 'Financial and private sector development'}, {'code': '5', 'name': 'Trade and integration'}, {'code': '2', 'name': 'Public sector governance'}, {'code': '5', 'name': 'Trade and integration'}], 294: [{'code': '7', 'name': 'Social dev/gender/inclusion'}, {'code': '10', 'name': 'Rural development'}], 295: [{'code': '8', 'name': 'Human development'}, {'code': '8', 'name': 'Human development'}, {'code': '8', 'name': 'Human development'}, {'code': '8', 'name': 'Human development'}], 296: [{'code': '8', 'name': 'Human development'}, {'code': '11', 'name': ''}], 297: [{'code': '10', 'name': 'Rural development'}, {'code': '8', 'name': 'Human development'}, {'code': '8', 'name': 'Human development'}, {'code': '8', 'name': 'Human development'}], 298: [{'code': '7', 'name': 'Social dev/gender/inclusion'}, {'code': '4', 'name': 'Financial and private sector development'}], 299: [{'code': '10', 'name': 'Rural development'}, {'code': '7', 'name': 'Social dev/gender/inclusion'}], 300: [{'code': '2', 'name': 'Public sector governance'}, {'code': '10', 'name': 'Rural development'}, {'code': '2', 'name': 'Public sector governance'}], 301: [{'code': '6', 'name': 'Social protection and risk management'}, {'code': '6', 'name': 'Social protection and risk management'}, {'code': '6', 'name': 'Social protection and risk management'}, {'code': '1', 'name': 'Economic management'}], 302: [{'code': '8', 'name': 'Human development'}, {'code': '2', 'name': 'Public sector governance'}, {'code': '2', 'name': 'Public sector governance'}, {'code': '2', 'name': 'Public sector governance'}], 303: [{'code': '8', 'name': 'Human development'}, {'code': '5', 'name': ''}], 304: [{'code': '8', 'name': 'Human development'}, {'code': '10', 'name': ''}], 305: [{'code': '5', 'name': 'Trade and integration'}, {'code': '5', 'name': 'Trade and integration'}], 306: [{'code': '8', 'name': 'Human development'}, {'code': '8', 'name': 'Human development'}, {'code': '8', 'name': 'Human development'}, {'code': '8', 'name': 'Human development'}, {'code': '8', 'name': 'Human development'}], 307: [{'code': '6', 'name': 'Social protection and risk management'}, {'code': '9', 'name': 'Urban development'}, {'code': '7', 'name': 'Social dev/gender/inclusion'}], 308: [{'code': '10', 'name': 'Rural development'}, {'code': '4', 'name': ''}], 309: [{'code': '10', 'name': 'Rural development'}, {'code': '7', 'name': ''}], 310: [{'code': '10', 'name': 'Rural development'}, {'code': '10', 'name': 'Rural development'}], 311: [{'code': '4', 'name': 'Financial and private sector development'}, {'code': '10', 'name': 'Rural development'}], 312: [{'code': '11', 'name': 'Environment and natural resources management'}, {'code': '4', 'name': 'Financial and private sector development'}, {'code': '10', 'name': 'Rural development'}], 313: [{'code': '9', 'name': 'Urban development'}, {'code': '4', 'name': 'Financial and private sector development'}, {'code': '11', 'name': 'Environment and natural resources management'}, {'code': '10', 'name': 'Rural development'}, {'code': '4', 'name': 'Financial and private sector development'}], 314: [{'code': '7', 'name': 'Social dev/gender/inclusion'}, {'code': '10', 'name': 'Rural development'}], 315: [{'code': '11', 'name': 'Environment and natural resources management'}, {'code': '6', 'name': 'Social protection and risk management'}, {'code': '11', 'name': 'Environment and natural resources management'}], 316: [{'code': '9', 'name': 'Urban development'}, {'code': '11', 'name': 'Environment and natural resources management'}, {'code': '11', 'name': 'Environment and natural resources management'}], 317: [{'code': '7', 'name': 'Social dev/gender/inclusion'}, {'code': '7', 'name': 'Social dev/gender/inclusion'}, {'code': '8', 'name': 'Human development'}], 318: [{'code': '6', 'name': 'Social protection and risk management'}, {'code': '8', 'name': 'Human development'}, {'code': '8', 'name': 'Human development'}, {'code': '8', 'name': 'Human development'}], 319: [{'code': '10', 'name': 'Rural development'}, {'code': '4', 'name': 'Financial and private sector development'}, {'code': '10', 'name': 'Rural development'}], 320: [{'code': '8', 'name': 'Human development'}, {'code': '10', 'name': 'Rural development'}, {'code': '10', 'name': 'Rural development'}], 321: [{'code': '11', 'name': 'Environment and natural resources management'}, {'code': '11', 'name': 'Environment and natural resources management'}, {'code': '11', 'name': 'Environment and natural resources management'}, {'code': '11', 'name': 'Environment and natural resources management'}], 322: [{'code': '11', 'name': 'Environment and natural resources management'}, {'code': '4', 'name': 'Financial and private sector development'}, {'code': '9', 'name': 'Urban development'}], 323: [{'code': '8', 'name': 'Human development'}, {'code': '8', 'name': ''}], 324: [{'code': '8', 'name': 'Human development'}, {'code': '2', 'name': 'Public sector governance'}], 325: [{'code': '2', 'name': 'Public sector governance'}, {'code': '5', 'name': ''}], 326: [{'code': '6', 'name': 'Social protection and risk management'}, {'code': '10', 'name': ''}], 327: [{'code': '6', 'name': 'Social protection and risk management'}, {'code': '6', 'name': ''}], 328: [{'code': '4', 'name': 'Financial and private sector development'}, {'code': '4', 'name': 'Financial and private sector development'}], 329: [{'code': '4', 'name': 'Financial and private sector development'}, {'code': '8', 'name': ''}], 330: [{'code': '10', 'name': 'Rural development'}, {'code': '10', 'name': 'Rural development'}], 331: [{'code': '10', 'name': 'Rural development'}, {'code': '8', 'name': ''}], 332: [{'code': '6', 'name': 'Social protection and risk management'}, {'code': '7', 'name': 'Social dev/gender/inclusion'}, {'code': '6', 'name': 'Social protection and risk management'}, {'code': '6', 'name': 'Social protection and risk management'}], 333: [{'code': '5', 'name': 'Trade and integration'}, {'code': '10', 'name': 'Rural development'}, {'code': '4', 'name': 'Financial and private sector development'}, {'code': '5', 'name': 'Trade and integration'}], 334: [{'code': '11', 'name': 'Environment and natural resources management'}, {'code': '11', 'name': 'Environment and natural resources management'}, {'code': '10', 'name': 'Rural development'}, {'code': '10', 'name': 'Rural development'}, {'code': '11', 'name': 'Environment and natural resources management'}], 335: [{'code': '8', 'name': 'Human development'}, {'code': '8', 'name': 'Human development'}, {'code': '8', 'name': 'Human development'}], 336: [{'code': '8', 'name': 'Human development'}, {'code': '11', 'name': ''}], 337: [{'code': '6', 'name': 'Social protection and risk management'}, {'code': '11', 'name': 'Environment and natural resources management'}], 338: [{'code': '2', 'name': 'Public sector governance'}, {'code': '11', 'name': ''}], 339: [{'code': '7', 'name': 'Social dev/gender/inclusion'}, {'code': '11', 'name': 'Environment and natural resources management'}, {'code': '11', 'name': 'Environment and natural resources management'}, {'code': '11', 'name': 'Environment and natural resources management'}, {'code': '4', 'name': 'Financial and private sector development'}], 340: [{'code': '2', 'name': 'Public sector governance'}, {'code': '5', 'name': 'Trade and integration'}, {'code': '1', 'name': 'Economic management'}, {'code': '4', 'name': 'Financial and private sector development'}], 341: [{'code': '2', 'name': 'Public sector governance'}, {'code': '10', 'name': ''}], 342: [{'code': '8', 'name': 'Human development'}, {'code': '11', 'name': ''}], 343: [{'code': '10', 'name': 'Rural development'}, {'code': '6', 'name': 'Social protection and risk management'}, {'code': '11', 'name': 'Environment and natural resources management'}], 344: [{'code': '2', 'name': 'Public sector governance'}, {'code': '10', 'name': 'Rural development'}], 345: [{'code': '8', 'name': 'Human development'}, {'code': '11', 'name': ''}], 346: [{'code': '2', 'name': 'Public sector governance'}, {'code': '1', 'name': ''}], 347: [{'code': '11', 'name': 'Environment and natural resources management'}, {'code': '10', 'name': 'Rural development'}, {'code': '10', 'name': 'Rural development'}], 348: [{'code': '2', 'name': 'Public sector governance'}, {'code': '3', 'name': ''}], 349: [{'code': '11', 'name': 'Environment and natural resources management'}, {'code': '7', 'name': 'Social dev/gender/inclusion'}, {'code': '10', 'name': 'Rural development'}, {'code': '11', 'name': 'Environment and natural resources management'}, {'code': '11', 'name': 'Environment and natural resources management'}], 350: [{'code': '8', 'name': 'Human development'}, {'code': '8', 'name': ''}], 351: [{'code': '11', 'name': 'Environment and natural resources management'}, {'code': '6', 'name': 'Social protection and risk management'}, {'code': '6', 'name': 'Social protection and risk management'}, {'code': '11', 'name': 'Environment and natural resources management'}, {'code': '11', 'name': 'Environment and natural resources management'}], 352: [{'code': '6', 'name': 'Social protection and risk management'}, {'code': '8', 'name': 'Human development'}, {'code': '2', 'name': 'Public sector governance'}, {'code': '1', 'name': 'Economic management'}], 353: [{'code': '11', 'name': 'Environment and natural resources management'}, {'code': '7', 'name': 'Social dev/gender/inclusion'}, {'code': '11', 'name': 'Environment and natural resources management'}], 354: [{'code': '6', 'name': 'Social protection and risk management'}, {'code': '11', 'name': 'Environment and natural resources management'}, {'code': '11', 'name': 'Environment and natural resources management'}], 355: [{'code': '7', 'name': 'Social dev/gender/inclusion'}, {'code': '11', 'name': ''}], 356: [{'code': '11', 'name': 'Environment and natural resources management'}, {'code': '11', 'name': 'Environment and natural resources management'}], 357: [{'code': '1', 'name': 'Economic management'}, {'code': '1', 'name': 'Economic management'}], 358: [{'code': '2', 'name': 'Public sector governance'}, {'code': '2', 'name': 'Public sector governance'}, {'code': '10', 'name': 'Rural development'}, {'code': '8', 'name': 'Human development'}, {'code': '4', 'name': 'Financial and private sector development'}], 359: [{'code': '11', 'name': 'Environment and natural resources management'}, {'code': '11', 'name': 'Environment and natural resources management'}, {'code': '11', 'name': 'Environment and natural resources management'}, {'code': '11', 'name': 'Environment and natural resources management'}], 360: [{'code': '11', 'name': 'Environment and natural resources management'}, {'code': '7', 'name': 'Social dev/gender/inclusion'}, {'code': '2', 'name': 'Public sector governance'}, {'code': '7', 'name': 'Social dev/gender/inclusion'}, {'code': '10', 'name': 'Rural development'}], 361: [{'code': '7', 'name': 'Social dev/gender/inclusion'}, {'code': '10', 'name': 'Rural development'}, {'code': '11', 'name': 'Environment and natural resources management'}], 362: [{'code': '7', 'name': 'Social dev/gender/inclusion'}, {'code': '10', 'name': 'Rural development'}, {'code': '10', 'name': 'Rural development'}], 363: [{'code': '1', 'name': 'Economic management'}, {'code': '8', 'name': ''}], 364: [{'code': '6', 'name': 'Social protection and risk management'}, {'code': '6', 'name': 'Social protection and risk management'}], 365: [{'code': '2', 'name': 'Public sector governance'}, {'code': '2', 'name': ''}], 366: [{'code': '2', 'name': 'Public sector governance'}, {'code': '7', 'name': ''}], 367: [{'code': '10', 'name': 'Rural development'}, {'code': '7', 'name': 'Social dev/gender/inclusion'}, {'code': '10', 'name': 'Rural development'}, {'code': '10', 'name': 'Rural development'}], 368: [{'code': '8', 'name': 'Human development'}, {'code': '7', 'name': 'Social dev/gender/inclusion'}], 369: [{'code': '11', 'name': 'Environment and natural resources management'}, {'code': '10', 'name': 'Rural development'}, {'code': '7', 'name': 'Social dev/gender/inclusion'}], 370: [{'code': '9', 'name': 'Urban development'}, {'code': '6', 'name': 'Social protection and risk management'}, {'code': '7', 'name': 'Social dev/gender/inclusion'}, {'code': '7', 'name': 'Social dev/gender/inclusion'}], 371: [{'code': '2', 'name': 'Public sector governance'}, {'code': '2', 'name': 'Public sector governance'}, {'code': '2', 'name': 'Public sector governance'}], 372: [{'code': '9', 'name': 'Urban development'}, {'code': '9', 'name': 'Urban development'}, {'code': '9', 'name': 'Urban development'}], 373: [{'code': '6', 'name': 'Social protection and risk management'}, {'code': '8', 'name': 'Human development'}, {'code': '6', 'name': 'Social protection and risk management'}, {'code': '6', 'name': 'Social protection and risk management'}], 374: [{'code': '7', 'name': 'Social dev/gender/inclusion'}, {'code': '8', 'name': 'Human development'}, {'code': '6', 'name': 'Social protection and risk management'}, {'code': '6', 'name': 'Social protection and risk management'}], 375: [{'code': '6', 'name': 'Social protection and risk management'}, {'code': '1', 'name': ''}], 376: [{'code': '6', 'name': 'Social protection and risk management'}, {'code': '6', 'name': 'Social protection and risk management'}, {'code': '10', 'name': 'Rural development'}], 377: [{'code': '7', 'name': 'Social dev/gender/inclusion'}, {'code': '10', 'name': 'Rural development'}, {'code': '8', 'name': 'Human development'}, {'code': '8', 'name': 'Human development'}, {'code': '10', 'name': 'Rural development'}], 378: [{'code': '10', 'name': 'Rural development'}, {'code': '7', 'name': ''}], 379: [{'code': '6', 'name': 'Social protection and risk management'}, {'code': '11', 'name': 'Environment and natural resources management'}], 380: [{'code': '8', 'name': 'Human development'}, {'code': '2', 'name': 'Public sector governance'}], 381: [{'code': '6', 'name': 'Social protection and risk management'}, {'code': '5', 'name': 'Trade and integration'}, {'code': '5', 'name': 'Trade and integration'}, {'code': '5', 'name': 'Trade and integration'}], 382: [{'code': '7', 'name': 'Social dev/gender/inclusion'}, {'code': '10', 'name': 'Rural development'}, {'code': '7', 'name': 'Social dev/gender/inclusion'}, {'code': '10', 'name': 'Rural development'}], 383: [{'code': '7', 'name': 'Social dev/gender/inclusion'}, {'code': '11', 'name': 'Environment and natural resources management'}, {'code': '10', 'name': 'Rural development'}], 384: [{'code': '6', 'name': 'Social protection and risk management'}, {'code': '2', 'name': 'Public sector governance'}, {'code': '2', 'name': 'Public sector governance'}, {'code': '2', 'name': 'Public sector governance'}, {'code': '2', 'name': 'Public sector governance'}], 385: [{'code': '5', 'name': 'Trade and integration'}, {'code': '5', 'name': 'Trade and integration'}, {'code': '4', 'name': 'Financial and private sector development'}, {'code': '10', 'name': 'Rural development'}, {'code': '6', 'name': 'Social protection and risk management'}], 386: [{'code': '8', 'name': 'Human development'}, {'code': '8', 'name': 'Human development'}, {'code': '8', 'name': 'Human development'}, {'code': '8', 'name': 'Human development'}, {'code': '8', 'name': 'Human development'}], 387: [{'code': '6', 'name': 'Social protection and risk management'}, {'code': '10', 'name': 'Rural development'}, {'code': '6', 'name': 'Social protection and risk management'}, {'code': '6', 'name': 'Social protection and risk management'}, {'code': '10', 'name': 'Rural development'}], 388: [{'code': '6', 'name': 'Social protection and risk management'}, {'code': '10', 'name': 'Rural development'}, {'code': '11', 'name': 'Environment and natural resources management'}, {'code': '10', 'name': 'Rural development'}, {'code': '10', 'name': 'Rural development'}], 389: [{'code': '4', 'name': 'Financial and private sector development'}, {'code': '9', 'name': 'Urban development'}], 390: [{'code': '11', 'name': 'Environment and natural resources management'}, {'code': '10', 'name': 'Rural development'}, {'code': '10', 'name': 'Rural development'}, {'code': '11', 'name': 'Environment and natural resources management'}, {'code': '10', 'name': 'Rural development'}], 391: [{'code': '8', 'name': 'Human development'}, {'code': '2', 'name': 'Public sector governance'}, {'code': '6', 'name': 'Social protection and risk management'}, {'code': '4', 'name': 'Financial and private sector development'}, {'code': '8', 'name': 'Human development'}], 392: [{'code': '10', 'name': 'Rural development'}, {'code': '10', 'name': ''}], 393: [{'code': '11', 'name': 'Environment and natural resources management'}, {'code': '11', 'name': 'Environment and natural resources management'}], 394: [{'code': '11', 'name': 'Environment and natural resources management'}, {'code': '10', 'name': 'Rural development'}], 395: [{'code': '4', 'name': 'Financial and private sector development'}, {'code': '5', 'name': 'Trade and integration'}, {'code': '5', 'name': 'Trade and integration'}, {'code': '10', 'name': 'Rural development'}], 396: [{'code': '6', 'name': 'Social protection and risk management'}, {'code': '4', 'name': 'Financial and private sector development'}, {'code': '7', 'name': 'Social dev/gender/inclusion'}, {'code': '7', 'name': 'Social dev/gender/inclusion'}], 397: [{'code': '7', 'name': 'Social dev/gender/inclusion'}, {'code': '2', 'name': 'Public sector governance'}, {'code': '6', 'name': 'Social protection and risk management'}, {'code': '6', 'name': 'Social protection and risk management'}, {'code': '2', 'name': 'Public sector governance'}], 398: [{'code': '4', 'name': 'Financial and private sector development'}, {'code': '7', 'name': 'Social dev/gender/inclusion'}, {'code': '4', 'name': 'Financial and private sector development'}, {'code': '4', 'name': 'Financial and private sector development'}], 399: [{'code': '10', 'name': 'Rural development'}, {'code': '11', 'name': 'Environment and natural resources management'}], 400: [{'code': '7', 'name': 'Social dev/gender/inclusion'}, {'code': '2', 'name': ''}], 401: [{'code': '11', 'name': 'Environment and natural resources management'}, {'code': '6', 'name': 'Social protection and risk management'}, {'code': '1', 'name': 'Economic management'}, {'code': '11', 'name': 'Environment and natural resources management'}], 402: [{'code': '2', 'name': 'Public sector governance'}, {'code': '3', 'name': 'Rule of law'}], 403: [{'code': '4', 'name': 'Financial and private sector development'}, {'code': '4', 'name': 'Financial and private sector development'}, {'code': '1', 'name': 'Economic management'}, {'code': '2', 'name': 'Public sector governance'}], 404: [{'code': '10', 'name': 'Rural development'}, {'code': '10', 'name': 'Rural development'}, {'code': '10', 'name': 'Rural development'}], 405: [{'code': '2', 'name': 'Public sector governance'}, {'code': '1', 'name': 'Economic management'}, {'code': '4', 'name': 'Financial and private sector development'}, {'code': '2', 'name': 'Public sector governance'}], 406: [{'code': '11', 'name': 'Environment and natural resources management'}, {'code': '11', 'name': 'Environment and natural resources management'}], 407: [{'code': '5', 'name': 'Trade and integration'}, {'code': '6', 'name': ''}], 408: [{'code': '11', 'name': 'Environment and natural resources management'}, {'code': '10', 'name': 'Rural development'}, {'code': '11', 'name': 'Environment and natural resources management'}, {'code': '6', 'name': 'Social protection and risk management'}], 409: [{'code': '1', 'name': 'Economic management'}, {'code': '1', 'name': 'Economic management'}, {'code': '2', 'name': 'Public sector governance'}, {'code': '2', 'name': 'Public sector governance'}, {'code': '6', 'name': 'Social protection and risk management'}], 410: [{'code': '2', 'name': 'Public sector governance'}, {'code': '1', 'name': 'Economic management'}, {'code': '6', 'name': 'Social protection and risk management'}], 411: [{'code': '6', 'name': 'Social protection and risk management'}, {'code': '6', 'name': ''}], 412: [{'code': '6', 'name': 'Social protection and risk management'}, {'code': '6', 'name': ''}], 413: [{'code': '11', 'name': 'Environment and natural resources management'}, {'code': '4', 'name': ''}], 414: [{'code': '11', 'name': 'Environment and natural resources management'}, {'code': '6', 'name': ''}], 415: [{'code': '11', 'name': 'Environment and natural resources management'}, {'code': '2', 'name': 'Public sector governance'}, {'code': '8', 'name': 'Human development'}, {'code': '8', 'name': 'Human development'}], 416: [{'code': '10', 'name': 'Rural development'}, {'code': '10', 'name': 'Rural development'}, {'code': '10', 'name': 'Rural development'}, {'code': '6', 'name': 'Social protection and risk management'}], 417: [{'code': '4', 'name': 'Financial and private sector development'}, {'code': '8', 'name': 'Human development'}], 418: [{'code': '8', 'name': 'Human development'}, {'code': '6', 'name': 'Social protection and risk management'}], 419: [{'code': '1', 'name': 'Economic management'}, {'code': '8', 'name': ''}], 420: [{'code': '6', 'name': 'Social protection and risk management'}, {'code': '1', 'name': 'Economic management'}], 421: [{'code': '7', 'name': 'Social dev/gender/inclusion'}, {'code': '8', 'name': 'Human development'}], 422: [{'code': '4', 'name': 'Financial and private sector development'}, {'code': '10', 'name': 'Rural development'}, {'code': '5', 'name': 'Trade and integration'}, {'code': '5', 'name': 'Trade and integration'}], 423: [{'code': '10', 'name': 'Rural development'}, {'code': '2', 'name': ''}], 424: [{'code': '7', 'name': 'Social dev/gender/inclusion'}, {'code': '7', 'name': 'Social dev/gender/inclusion'}, {'code': '10', 'name': 'Rural development'}], 425: [{'code': '8', 'name': 'Human development'}, {'code': '10', 'name': 'Rural development'}, {'code': '2', 'name': 'Public sector governance'}, {'code': '2', 'name': 'Public sector governance'}], 426: [{'code': '4', 'name': 'Financial and private sector development'}, {'code': '4', 'name': ''}], 427: [{'code': '8', 'name': 'Human development'}, {'code': '4', 'name': 'Financial and private sector development'}, {'code': '7', 'name': 'Social dev/gender/inclusion'}], 428: [{'code': '2', 'name': 'Public sector governance'}, {'code': '2', 'name': 'Public sector governance'}], 429: [{'code': '11', 'name': 'Environment and natural resources management'}, {'code': '11', 'name': 'Environment and natural resources management'}], 430: [{'code': '7', 'name': 'Social dev/gender/inclusion'}, {'code': '11', 'name': 'Environment and natural resources management'}, {'code': '3', 'name': 'Rule of law'}], 431: [{'code': '4', 'name': 'Financial and private sector development'}, {'code': '7', 'name': 'Social dev/gender/inclusion'}], 432: [{'code': '9', 'name': 'Urban development'}, {'code': '2', 'name': 'Public sector governance'}], 433: [{'code': '4', 'name': 'Financial and private sector development'}, {'code': '2', 'name': 'Public sector governance'}, {'code': '4', 'name': 'Financial and private sector development'}, {'code': '2', 'name': 'Public sector governance'}], 434: [{'code': '10', 'name': 'Rural development'}, {'code': '7', 'name': 'Social dev/gender/inclusion'}, {'code': '7', 'name': 'Social dev/gender/inclusion'}, {'code': '10', 'name': 'Rural development'}, {'code': '10', 'name': 'Rural development'}], 435: [{'code': '7', 'name': 'Social dev/gender/inclusion'}, {'code': '3', 'name': 'Rule of law'}, {'code': '9', 'name': 'Urban development'}], 436: [{'code': '8', 'name': 'Human development'}, {'code': '8', 'name': 'Human development'}, {'code': '8', 'name': 'Human development'}, {'code': '8', 'name': 'Human development'}, {'code': '8', 'name': 'Human development'}], 437: [{'code': '10', 'name': 'Rural development'}, {'code': '10', 'name': 'Rural development'}], 438: [{'code': '10', 'name': 'Rural development'}, {'code': '4', 'name': 'Financial and private sector development'}, {'code': '8', 'name': 'Human development'}, {'code': '10', 'name': 'Rural development'}, {'code': '10', 'name': 'Rural development'}], 439: [{'code': '3', 'name': 'Rule of law'}, {'code': '7', 'name': 'Social dev/gender/inclusion'}], 440: [{'code': '9', 'name': 'Urban development'}, {'code': '5', 'name': ''}], 441: [{'code': '8', 'name': 'Human development'}, {'code': '11', 'name': 'Environment and natural resources management'}], 442: [{'code': '8', 'name': 'Human development'}, {'code': '7', 'name': 'Social dev/gender/inclusion'}], 443: [{'code': '11', 'name': 'Environment and natural resources management'}, {'code': '11', 'name': 'Environment and natural resources management'}], 444: [{'code': '8', 'name': 'Human development'}, {'code': '7', 'name': 'Social dev/gender/inclusion'}], 445: [{'code': '7', 'name': 'Social dev/gender/inclusion'}, {'code': '4', 'name': ''}], 446: [{'code': '8', 'name': 'Human development'}, {'code': '11', 'name': ''}], 447: [{'code': '10', 'name': 'Rural development'}, {'code': '10', 'name': 'Rural development'}, {'code': '7', 'name': 'Social dev/gender/inclusion'}, {'code': '10', 'name': 'Rural development'}, {'code': '10', 'name': 'Rural development'}], 448: [{'code': '4', 'name': 'Financial and private sector development'}, {'code': '2', 'name': 'Public sector governance'}, {'code': '4', 'name': 'Financial and private sector development'}, {'code': '6', 'name': 'Social protection and risk management'}, {'code': '6', 'name': 'Social protection and risk management'}], 449: [{'code': '9', 'name': 'Urban development'}, {'code': '11', 'name': 'Environment and natural resources management'}, {'code': '10', 'name': 'Rural development'}, {'code': '5', 'name': 'Trade and integration'}], 450: [{'code': '7', 'name': 'Social dev/gender/inclusion'}, {'code': '9', 'name': 'Urban development'}, {'code': '8', 'name': 'Human development'}, {'code': '7', 'name': 'Social dev/gender/inclusion'}], 451: [{'code': '8', 'name': 'Human development'}, {'code': '2', 'name': ''}], 452: [{'code': '10', 'name': 'Rural development'}, {'code': '2', 'name': 'Public sector governance'}, {'code': '7', 'name': 'Social dev/gender/inclusion'}, {'code': '8', 'name': 'Human development'}, {'code': '2', 'name': 'Public sector governance'}], 453: [{'code': '8', 'name': 'Human development'}, {'code': '2', 'name': ''}], 454: [{'code': '8', 'name': 'Human development'}, {'code': '11', 'name': ''}], 455: [{'code': '6', 'name': 'Social protection and risk management'}, {'code': '4', 'name': 'Financial and private sector development'}, {'code': '11', 'name': 'Environment and natural resources management'}, {'code': '10', 'name': 'Rural development'}], 456: [{'code': '6', 'name': 'Social protection and risk management'}, {'code': '8', 'name': 'Human development'}, {'code': '8', 'name': 'Human development'}, {'code': '8', 'name': 'Human development'}], 457: [{'code': '10', 'name': 'Rural development'}, {'code': '2', 'name': 'Public sector governance'}, {'code': '6', 'name': 'Social protection and risk management'}, {'code': '5', 'name': 'Trade and integration'}], 458: [{'code': '10', 'name': 'Rural development'}, {'code': '10', 'name': 'Rural development'}, {'code': '7', 'name': 'Social dev/gender/inclusion'}, {'code': '11', 'name': 'Environment and natural resources management'}], 459: [{'code': '8', 'name': 'Human development'}, {'code': '2', 'name': 'Public sector governance'}, {'code': '2', 'name': 'Public sector governance'}, {'code': '7', 'name': 'Social dev/gender/inclusion'}, {'code': '8', 'name': 'Human development'}], 460: [{'code': '5', 'name': 'Trade and integration'}, {'code': '10', 'name': 'Rural development'}], 461: [{'code': '5', 'name': 'Trade and integration'}, {'code': '4', 'name': 'Financial and private sector development'}, {'code': '10', 'name': 'Rural development'}], 462: [{'code': '11', 'name': 'Environment and natural resources management'}, {'code': '2', 'name': 'Public sector governance'}, {'code': '7', 'name': 'Social dev/gender/inclusion'}, {'code': '11', 'name': 'Environment and natural resources management'}], 463: [{'code': '2', 'name': 'Public sector governance'}, {'code': '6', 'name': 'Social protection and risk management'}, {'code': '10', 'name': 'Rural development'}, {'code': '7', 'name': 'Social dev/gender/inclusion'}, {'code': '2', 'name': 'Public sector governance'}], 464: [{'code': '5', 'name': 'Trade and integration'}, {'code': '8', 'name': 'Human development'}, {'code': '6', 'name': 'Social protection and risk management'}], 465: [{'code': '10', 'name': 'Rural development'}, {'code': '10', 'name': 'Rural development'}, {'code': '7', 'name': 'Social dev/gender/inclusion'}], 466: [{'code': '11', 'name': 'Environment and natural resources management'}, {'code': '6', 'name': 'Social protection and risk management'}, {'code': '11', 'name': 'Environment and natural resources management'}, {'code': '7', 'name': 'Social dev/gender/inclusion'}, {'code': '2', 'name': 'Public sector governance'}], 467: [{'code': '2', 'name': 'Public sector governance'}, {'code': '4', 'name': 'Financial and private sector development'}, {'code': '2', 'name': 'Public sector governance'}, {'code': '6', 'name': 'Social protection and risk management'}, {'code': '3', 'name': 'Rule of law'}], 468: [{'code': '5', 'name': 'Trade and integration'}, {'code': '4', 'name': 'Financial and private sector development'}], 469: [{'code': '11', 'name': ''}], 470: [{'code': '5', 'name': 'Trade and integration'}, {'code': '10', 'name': 'Rural development'}], 471: [{'code': '10', 'name': 'Rural development'}, {'code': '7', 'name': 'Social dev/gender/inclusion'}, {'code': '11', 'name': 'Environment and natural resources management'}, {'code': '7', 'name': 'Social dev/gender/inclusion'}], 472: [{'code': '11', 'name': 'Environment and natural resources management'}, {'code': '11', 'name': ''}], 473: [{'code': '11', 'name': 'Environment and natural resources management'}, {'code': '4', 'name': ''}], 474: [{'code': '9', 'name': 'Urban development'}, {'code': '9', 'name': 'Urban development'}], 475: [{'code': '4', 'name': 'Financial and private sector development'}, {'code': '9', 'name': 'Urban development'}], 476: [{'code': '10', 'name': 'Rural development'}, {'code': '8', 'name': ''}], 477: [{'code': '4', 'name': 'Financial and private sector development'}, {'code': '10', 'name': 'Rural development'}], 478: [{'code': '2', 'name': 'Public sector governance'}, {'code': '3', 'name': 'Rule of law'}, {'code': '11', 'name': 'Environment and natural resources management'}], 479: [{'code': '7', 'name': 'Social dev/gender/inclusion'}, {'code': '1', 'name': ''}], 480: [{'code': '2', 'name': 'Public sector governance'}, {'code': '11', 'name': ''}], 481: [{'code': '8', 'name': 'Human development'}, {'code': '7', 'name': 'Social dev/gender/inclusion'}, {'code': '7', 'name': 'Social dev/gender/inclusion'}, {'code': '8', 'name': 'Human development'}], 482: [{'code': '10', 'name': 'Rural development'}, {'code': '11', 'name': 'Environment and natural resources management'}, {'code': '11', 'name': 'Environment and natural resources management'}, {'code': '10', 'name': 'Rural development'}], 483: [{'code': '11', 'name': 'Environment and natural resources management'}, {'code': '11', 'name': 'Environment and natural resources management'}, {'code': '10', 'name': 'Rural development'}, {'code': '11', 'name': 'Environment and natural resources management'}], 484: [{'code': '10', 'name': 'Rural development'}, {'code': '4', 'name': 'Financial and private sector development'}, {'code': '7', 'name': 'Social dev/gender/inclusion'}, {'code': '10', 'name': 'Rural development'}], 485: [{'code': '8', 'name': 'Human development'}, {'code': '4', 'name': ''}], 486: [{'code': '2', 'name': 'Public sector governance'}, {'code': '6', 'name': 'Social protection and risk management'}, {'code': '6', 'name': 'Social protection and risk management'}, {'code': '6', 'name': 'Social protection and risk management'}], 487: [{'code': '11', 'name': 'Environment and natural resources management'}, {'code': '10', 'name': 'Rural development'}, {'code': '10', 'name': 'Rural development'}, {'code': '11', 'name': 'Environment and natural resources management'}], 488: [{'code': '8', 'name': 'Human development'}, {'code': '2', 'name': 'Public sector governance'}, {'code': '2', 'name': 'Public sector governance'}, {'code': '8', 'name': 'Human development'}], 489: [{'code': '9', 'name': 'Urban development'}, {'code': '6', 'name': 'Social protection and risk management'}, {'code': '6', 'name': 'Social protection and risk management'}, {'code': '9', 'name': 'Urban development'}], 490: [{'code': '2', 'name': 'Public sector governance'}, {'code': '2', 'name': 'Public sector governance'}], 491: [{'code': '10', 'name': 'Rural development'}, {'code': '11', 'name': ''}], 492: [{'code': '8', 'name': 'Human development'}, {'code': '7', 'name': 'Social dev/gender/inclusion'}], 493: [{'code': '11', 'name': 'Environment and natural resources management'}, {'code': '5', 'name': ''}], 494: [{'code': '6', 'name': 'Social protection and risk management'}, {'code': '8', 'name': ''}], 495: [{'code': '4', 'name': 'Financial and private sector development'}, {'code': '7', 'name': 'Social dev/gender/inclusion'}], 496: [{'code': '8', 'name': 'Human development'}, {'code': '5', 'name': 'Trade and integration'}, {'code': '2', 'name': 'Public sector governance'}, {'code': '8', 'name': 'Human development'}], 497: [{'code': '10', 'name': 'Rural development'}, {'code': '6', 'name': ''}], 498: [{'code': '10', 'name': 'Rural development'}, {'code': '10', 'name': 'Rural development'}, {'code': '10', 'name': 'Rural development'}], 499: [{'code': '9', 'name': 'Urban development'}, {'code': '8', 'name': 'Human development'}, {'code': '5', 'name': 'Trade and integration'}, {'code': '4', 'name': 'Financial and private sector development'}]}"
      ]
     },
     "execution_count": 707,
     "metadata": {},
     "output_type": "execute_result"
    }
   ],
   "source": [
    "for values in s:\n",
    "    "
   ]
  },
  {
   "cell_type": "code",
   "execution_count": 708,
   "metadata": {},
   "outputs": [
    {
     "data": {
      "text/plain": [
       "{'': 122, 'Human development': 118, 'Economic management': 28, 'Social protection and risk management': 110, 'Environment and natural resources management': 135, 'Public sector governance': 126, 'Trade and integration': 56, 'Social dev/gender/inclusion': 103, 'Financial and private sector development': 104, 'Rural development': 135, 'Urban development': 37, 'Rule of law': 11}"
      ]
     },
     "execution_count": 708,
     "metadata": {},
     "output_type": "execute_result"
    }
   ],
   "source": [
    "dictd"
   ]
  },
  {
   "cell_type": "code",
   "execution_count": null,
   "metadata": {},
   "outputs": [],
   "source": []
  }
 ],
 "metadata": {
  "kernelspec": {
   "display_name": "Python 3",
   "language": "python",
   "name": "python3"
  },
  "language_info": {
   "codemirror_mode": {
    "name": "ipython",
    "version": 3
   },
   "file_extension": ".py",
   "mimetype": "text/x-python",
   "name": "python",
   "nbconvert_exporter": "python",
   "pygments_lexer": "ipython3",
   "version": "3.7.1"
  }
 },
 "nbformat": 4,
 "nbformat_minor": 1
}
